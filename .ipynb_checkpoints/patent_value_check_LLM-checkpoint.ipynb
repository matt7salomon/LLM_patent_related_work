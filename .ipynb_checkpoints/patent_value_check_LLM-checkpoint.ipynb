{
 "cells": [
  {
   "cell_type": "code",
   "execution_count": null,
   "metadata": {
    "id": "sJ-fzarbjivh"
   },
   "outputs": [],
   "source": []
  },
  {
   "cell_type": "code",
   "execution_count": 1,
   "metadata": {
    "colab": {
     "base_uri": "https://localhost:8080/"
    },
    "id": "BX-ICj2fjivj",
    "outputId": "78d8e74c-c6ed-436b-e4b8-41fa27956222"
   },
   "outputs": [
    {
     "name": "stdout",
     "output_type": "stream",
     "text": [
      "2.4.1+cu121\n",
      "4.44.2\n"
     ]
    }
   ],
   "source": [
    "import torch\n",
    "import transformers\n",
    "\n",
    "print(torch.__version__)\n",
    "print(transformers.__version__)"
   ]
  },
  {
   "cell_type": "code",
   "execution_count": 9,
   "metadata": {
    "colab": {
     "base_uri": "https://localhost:8080/"
    },
    "id": "Y0uUXwFNms-G",
    "outputId": "541abc50-fccc-4788-f051-53cc3bab2f21"
   },
   "outputs": [
    {
     "name": "stdout",
     "output_type": "stream",
     "text": [
      "Collecting openai\n",
      "  Downloading openai-1.47.1-py3-none-any.whl.metadata (24 kB)\n",
      "Requirement already satisfied: anyio<5,>=3.5.0 in /usr/local/lib/python3.10/dist-packages (from openai) (3.7.1)\n",
      "Requirement already satisfied: distro<2,>=1.7.0 in /usr/lib/python3/dist-packages (from openai) (1.7.0)\n",
      "Collecting httpx<1,>=0.23.0 (from openai)\n",
      "  Downloading httpx-0.27.2-py3-none-any.whl.metadata (7.1 kB)\n",
      "Collecting jiter<1,>=0.4.0 (from openai)\n",
      "  Downloading jiter-0.5.0-cp310-cp310-manylinux_2_17_x86_64.manylinux2014_x86_64.whl.metadata (3.6 kB)\n",
      "Requirement already satisfied: pydantic<3,>=1.9.0 in /usr/local/lib/python3.10/dist-packages (from openai) (2.9.2)\n",
      "Requirement already satisfied: sniffio in /usr/local/lib/python3.10/dist-packages (from openai) (1.3.1)\n",
      "Requirement already satisfied: tqdm>4 in /usr/local/lib/python3.10/dist-packages (from openai) (4.66.5)\n",
      "Requirement already satisfied: typing-extensions<5,>=4.11 in /usr/local/lib/python3.10/dist-packages (from openai) (4.12.2)\n",
      "Requirement already satisfied: idna>=2.8 in /usr/local/lib/python3.10/dist-packages (from anyio<5,>=3.5.0->openai) (3.10)\n",
      "Requirement already satisfied: exceptiongroup in /usr/local/lib/python3.10/dist-packages (from anyio<5,>=3.5.0->openai) (1.2.2)\n",
      "Requirement already satisfied: certifi in /usr/local/lib/python3.10/dist-packages (from httpx<1,>=0.23.0->openai) (2024.8.30)\n",
      "Collecting httpcore==1.* (from httpx<1,>=0.23.0->openai)\n",
      "  Downloading httpcore-1.0.5-py3-none-any.whl.metadata (20 kB)\n",
      "Collecting h11<0.15,>=0.13 (from httpcore==1.*->httpx<1,>=0.23.0->openai)\n",
      "  Downloading h11-0.14.0-py3-none-any.whl.metadata (8.2 kB)\n",
      "Requirement already satisfied: annotated-types>=0.6.0 in /usr/local/lib/python3.10/dist-packages (from pydantic<3,>=1.9.0->openai) (0.7.0)\n",
      "Requirement already satisfied: pydantic-core==2.23.4 in /usr/local/lib/python3.10/dist-packages (from pydantic<3,>=1.9.0->openai) (2.23.4)\n",
      "Downloading openai-1.47.1-py3-none-any.whl (375 kB)\n",
      "\u001b[2K   \u001b[90m━━━━━━━━━━━━━━━━━━━━━━━━━━━━━━━━━━━━━━━━\u001b[0m \u001b[32m375.6/375.6 kB\u001b[0m \u001b[31m16.5 MB/s\u001b[0m eta \u001b[36m0:00:00\u001b[0m\n",
      "\u001b[?25hDownloading httpx-0.27.2-py3-none-any.whl (76 kB)\n",
      "\u001b[2K   \u001b[90m━━━━━━━━━━━━━━━━━━━━━━━━━━━━━━━━━━━━━━━━\u001b[0m \u001b[32m76.4/76.4 kB\u001b[0m \u001b[31m4.7 MB/s\u001b[0m eta \u001b[36m0:00:00\u001b[0m\n",
      "\u001b[?25hDownloading httpcore-1.0.5-py3-none-any.whl (77 kB)\n",
      "\u001b[2K   \u001b[90m━━━━━━━━━━━━━━━━━━━━━━━━━━━━━━━━━━━━━━━━\u001b[0m \u001b[32m77.9/77.9 kB\u001b[0m \u001b[31m5.1 MB/s\u001b[0m eta \u001b[36m0:00:00\u001b[0m\n",
      "\u001b[?25hDownloading jiter-0.5.0-cp310-cp310-manylinux_2_17_x86_64.manylinux2014_x86_64.whl (318 kB)\n",
      "\u001b[2K   \u001b[90m━━━━━━━━━━━━━━━━━━━━━━━━━━━━━━━━━━━━━━━━\u001b[0m \u001b[32m318.9/318.9 kB\u001b[0m \u001b[31m16.8 MB/s\u001b[0m eta \u001b[36m0:00:00\u001b[0m\n",
      "\u001b[?25hDownloading h11-0.14.0-py3-none-any.whl (58 kB)\n",
      "\u001b[2K   \u001b[90m━━━━━━━━━━━━━━━━━━━━━━━━━━━━━━━━━━━━━━━━\u001b[0m \u001b[32m58.3/58.3 kB\u001b[0m \u001b[31m3.6 MB/s\u001b[0m eta \u001b[36m0:00:00\u001b[0m\n",
      "\u001b[?25hInstalling collected packages: jiter, h11, httpcore, httpx, openai\n",
      "Successfully installed h11-0.14.0 httpcore-1.0.5 httpx-0.27.2 jiter-0.5.0 openai-1.47.1\n"
     ]
    }
   ],
   "source": [
    "pip install openai"
   ]
  },
  {
   "cell_type": "code",
   "execution_count": 16,
   "metadata": {
    "colab": {
     "base_uri": "https://localhost:8080/"
    },
    "id": "G3TDUfVsoX8O",
    "outputId": "b8406b34-4659-46ab-d6fc-1fa839612bce"
   },
   "outputs": [
    {
     "name": "stdout",
     "output_type": "stream",
     "text": [
      "Requirement already satisfied: google-cloud-bigquery in /usr/local/lib/python3.10/dist-packages (3.25.0)\n",
      "Requirement already satisfied: google-api-core!=2.0.*,!=2.1.*,!=2.10.*,!=2.2.*,!=2.3.*,!=2.4.*,!=2.5.*,!=2.6.*,!=2.7.*,!=2.8.*,!=2.9.*,<3.0.0dev,>=1.34.1 in /usr/local/lib/python3.10/dist-packages (from google-api-core[grpc]!=2.0.*,!=2.1.*,!=2.10.*,!=2.2.*,!=2.3.*,!=2.4.*,!=2.5.*,!=2.6.*,!=2.7.*,!=2.8.*,!=2.9.*,<3.0.0dev,>=1.34.1->google-cloud-bigquery) (2.19.2)\n",
      "Requirement already satisfied: google-auth<3.0.0dev,>=2.14.1 in /usr/local/lib/python3.10/dist-packages (from google-cloud-bigquery) (2.27.0)\n",
      "Requirement already satisfied: google-cloud-core<3.0.0dev,>=1.6.0 in /usr/local/lib/python3.10/dist-packages (from google-cloud-bigquery) (2.4.1)\n",
      "Requirement already satisfied: google-resumable-media<3.0dev,>=0.6.0 in /usr/local/lib/python3.10/dist-packages (from google-cloud-bigquery) (2.7.2)\n",
      "Requirement already satisfied: packaging>=20.0.0 in /usr/local/lib/python3.10/dist-packages (from google-cloud-bigquery) (24.1)\n",
      "Requirement already satisfied: python-dateutil<3.0dev,>=2.7.2 in /usr/local/lib/python3.10/dist-packages (from google-cloud-bigquery) (2.8.2)\n",
      "Requirement already satisfied: requests<3.0.0dev,>=2.21.0 in /usr/local/lib/python3.10/dist-packages (from google-cloud-bigquery) (2.32.3)\n",
      "Requirement already satisfied: googleapis-common-protos<2.0.dev0,>=1.56.2 in /usr/local/lib/python3.10/dist-packages (from google-api-core!=2.0.*,!=2.1.*,!=2.10.*,!=2.2.*,!=2.3.*,!=2.4.*,!=2.5.*,!=2.6.*,!=2.7.*,!=2.8.*,!=2.9.*,<3.0.0dev,>=1.34.1->google-api-core[grpc]!=2.0.*,!=2.1.*,!=2.10.*,!=2.2.*,!=2.3.*,!=2.4.*,!=2.5.*,!=2.6.*,!=2.7.*,!=2.8.*,!=2.9.*,<3.0.0dev,>=1.34.1->google-cloud-bigquery) (1.65.0)\n",
      "Requirement already satisfied: protobuf!=3.20.0,!=3.20.1,!=4.21.0,!=4.21.1,!=4.21.2,!=4.21.3,!=4.21.4,!=4.21.5,<6.0.0.dev0,>=3.19.5 in /usr/local/lib/python3.10/dist-packages (from google-api-core!=2.0.*,!=2.1.*,!=2.10.*,!=2.2.*,!=2.3.*,!=2.4.*,!=2.5.*,!=2.6.*,!=2.7.*,!=2.8.*,!=2.9.*,<3.0.0dev,>=1.34.1->google-api-core[grpc]!=2.0.*,!=2.1.*,!=2.10.*,!=2.2.*,!=2.3.*,!=2.4.*,!=2.5.*,!=2.6.*,!=2.7.*,!=2.8.*,!=2.9.*,<3.0.0dev,>=1.34.1->google-cloud-bigquery) (3.20.3)\n",
      "Requirement already satisfied: proto-plus<2.0.0dev,>=1.22.3 in /usr/local/lib/python3.10/dist-packages (from google-api-core!=2.0.*,!=2.1.*,!=2.10.*,!=2.2.*,!=2.3.*,!=2.4.*,!=2.5.*,!=2.6.*,!=2.7.*,!=2.8.*,!=2.9.*,<3.0.0dev,>=1.34.1->google-api-core[grpc]!=2.0.*,!=2.1.*,!=2.10.*,!=2.2.*,!=2.3.*,!=2.4.*,!=2.5.*,!=2.6.*,!=2.7.*,!=2.8.*,!=2.9.*,<3.0.0dev,>=1.34.1->google-cloud-bigquery) (1.24.0)\n",
      "Requirement already satisfied: grpcio<2.0dev,>=1.33.2 in /usr/local/lib/python3.10/dist-packages (from google-api-core[grpc]!=2.0.*,!=2.1.*,!=2.10.*,!=2.2.*,!=2.3.*,!=2.4.*,!=2.5.*,!=2.6.*,!=2.7.*,!=2.8.*,!=2.9.*,<3.0.0dev,>=1.34.1->google-cloud-bigquery) (1.64.1)\n",
      "Requirement already satisfied: grpcio-status<2.0.dev0,>=1.33.2 in /usr/local/lib/python3.10/dist-packages (from google-api-core[grpc]!=2.0.*,!=2.1.*,!=2.10.*,!=2.2.*,!=2.3.*,!=2.4.*,!=2.5.*,!=2.6.*,!=2.7.*,!=2.8.*,!=2.9.*,<3.0.0dev,>=1.34.1->google-cloud-bigquery) (1.48.2)\n",
      "Requirement already satisfied: cachetools<6.0,>=2.0.0 in /usr/local/lib/python3.10/dist-packages (from google-auth<3.0.0dev,>=2.14.1->google-cloud-bigquery) (5.5.0)\n",
      "Requirement already satisfied: pyasn1-modules>=0.2.1 in /usr/local/lib/python3.10/dist-packages (from google-auth<3.0.0dev,>=2.14.1->google-cloud-bigquery) (0.4.1)\n",
      "Requirement already satisfied: rsa<5,>=3.1.4 in /usr/local/lib/python3.10/dist-packages (from google-auth<3.0.0dev,>=2.14.1->google-cloud-bigquery) (4.9)\n",
      "Requirement already satisfied: google-crc32c<2.0dev,>=1.0 in /usr/local/lib/python3.10/dist-packages (from google-resumable-media<3.0dev,>=0.6.0->google-cloud-bigquery) (1.6.0)\n",
      "Requirement already satisfied: six>=1.5 in /usr/local/lib/python3.10/dist-packages (from python-dateutil<3.0dev,>=2.7.2->google-cloud-bigquery) (1.16.0)\n",
      "Requirement already satisfied: charset-normalizer<4,>=2 in /usr/local/lib/python3.10/dist-packages (from requests<3.0.0dev,>=2.21.0->google-cloud-bigquery) (3.3.2)\n",
      "Requirement already satisfied: idna<4,>=2.5 in /usr/local/lib/python3.10/dist-packages (from requests<3.0.0dev,>=2.21.0->google-cloud-bigquery) (3.10)\n",
      "Requirement already satisfied: urllib3<3,>=1.21.1 in /usr/local/lib/python3.10/dist-packages (from requests<3.0.0dev,>=2.21.0->google-cloud-bigquery) (2.2.3)\n",
      "Requirement already satisfied: certifi>=2017.4.17 in /usr/local/lib/python3.10/dist-packages (from requests<3.0.0dev,>=2.21.0->google-cloud-bigquery) (2024.8.30)\n",
      "Requirement already satisfied: pyasn1<0.7.0,>=0.4.6 in /usr/local/lib/python3.10/dist-packages (from pyasn1-modules>=0.2.1->google-auth<3.0.0dev,>=2.14.1->google-cloud-bigquery) (0.6.1)\n"
     ]
    }
   ],
   "source": [
    "pip install google-cloud-bigquery"
   ]
  },
  {
   "cell_type": "code",
   "execution_count": 20,
   "metadata": {
    "colab": {
     "base_uri": "https://localhost:8080/"
    },
    "id": "TZs5c1gtqjbi",
    "outputId": "e4f5846a-b1e4-4bec-d369-ec6abf51ded7"
   },
   "outputs": [
    {
     "name": "stdout",
     "output_type": "stream",
     "text": [
      "Drive already mounted at /content/drive; to attempt to forcibly remount, call drive.mount(\"/content/drive\", force_remount=True).\n"
     ]
    }
   ],
   "source": [
    "from google.colab import drive\n",
    "import os\n",
    "drive.mount('/content/drive')\n",
    "\n",
    "os.environ['GOOGLE_APPLICATION_CREDENTIALS']='/content/drive/MyDrive/Colab Notebooks/haystack-436323-fd77f9e327cc.json'"
   ]
  },
  {
   "cell_type": "code",
   "execution_count": 75,
   "metadata": {
    "colab": {
     "base_uri": "https://localhost:8080/",
     "height": 1000
    },
    "id": "ITPFmwoq4dYn",
    "outputId": "d68f677b-f74a-4b66-cd18-8f0130cca134"
   },
   "outputs": [
    {
     "name": "stdout",
     "output_type": "stream",
     "text": [
      "Starting patent licensing and value analysis pipeline for file: /content/drive/MyDrive/Colab Notebooks/sample_patent.txt\n",
      "Uploading and analyzing patent claims from file: /content/drive/MyDrive/Colab Notebooks/sample_patent.txt\n",
      "Analyzing patent claims with GPT-4. Claims: Description\n",
      "CROSS-REFERENCE TO RELATED APPLICATION\n",
      "This application claims priority under 35 U.S.C. 119 to U.S. Provisional Application No. 61/056,706, entitled: “TECHNIQUES FOR POWER CONVERSION,” filed on May 28, 2008, the contents of which are incorporated herein as if set forth in full.\n",
      "BACKGROUND\n",
      "Generally, magnetic components use magnetic materials for shaping and directing magnetic fields in a manner designed to achieve a desired electrical performance. Magnetic components are readily used in a wide variety of electronic equipment such as computers, televisions, telephones, etc. In operation, magnetic fields may act as the medium for storing, transferring, and releasing electromagnetic energy. Transformers are one specific example of a magnetic component, and typically comprise two or more windings of conductors (e.g., copper wire) wound around a bobbin with a magnetic core inserted through the bobbin. The bobbin may generally be made of a molded plastic or any other suitable dielectric material. The conductors may be wound around the bobbin a predetermined number of times and in a predetermined configuration to achieve specific electrical characteristics. For example, the number of windings (e.g., a primary winding and a secondary winding) and the number of turns for the conductors in each winding may be a function of the intended application for the transformer.\n",
      "To form the magnetic field in the transformer, a core assembly having high magnetic permeability may be inserted into the bobbin. Often the core assembly is made in two pieces, each having an “E” shaped cross-section that may be inserted into opposite ends of the bobbin. The transformer assembly may then be held together by various physical means such as a spring clip, tape, or an adhesive. Of course, different configurations may also be used for various applications.\n",
      "Transformers generally operate on the principle that a change in current flowing through a first winding conductor, which is isolated from a second winding conductor, creates a magnetic flux in a core that causes a change in the current flow in the second winding conductor. The ratio of current in the two winding conductors may generally be related to the relative number of windings of each conductor. This may in turn create a voltage that may be the product of the number of turns multiplied by the change in magnetic flux.\n",
      "Transformers are used in several applications, including power converters (or power adapters) used to power electronic devices, such as cell phones, computers, and the like. One type of power converter is a Switched Mode Power Supplies (SMPS). An SMPS may include a power supply unit and a circuit inside the unit to regulate the current. The regulating circuit may control the current so that it can stabilize it to a set voltage that is then sent to the electronic device. Due of weight, economic, and convenience factors, SMPS's are the devices of choice to power most consumer electronics that need stable current and voltage. However, they must be designed carefully to provide power with acceptable efficiency and minimal noise.\n",
      "To meet these requirements, power converters may include one or more stages that include one or more magnetic components including filters, transformers, inductors, or the like. Many power converters are designed to provide multiple output voltages. A typical example is the desktop ATX computer power supply, which produces 12 V, 5 V, and 3.3 V as well as other supplies. The 12 V, 5 V, and 3.3 V supplies all require tight voltage regulation and must produce a large output current. In order to produce all of the desired output voltages from a single transformer, the turns-ratio of the transformer between the primary and secondary windings should match the input voltage relative to the output voltages plus any rectifier voltage drops in the output stages. In order to keep the transformer secondary turns to a minimum, some error is often introduced into the output voltages due to use of integer turns-ratios in low numbers.\n",
      "As can be appreciated, it may be desirable to have relatively few secondary windings for various reasons. For example, since the voltage may be “stepped down” from the primary windings to the secondary windings (e.g., from 120 V down to 3.3 V), the turns-ratio may be very large, which requires a large number of turns for the primary windings relative to the secondary windings. Second, since the secondary windings may generally carry a relatively large amount of current, windings having a relatively large cross-section may be used, which increases the physical space required by the windings. By utilizing relatively few turns, the physical space required by the secondary windings and the primary windings may be reduced.\n",
      "Some types of AC-to-DC power supplies may include isolation transformers that step a high-voltage bus (e.g. 250 V-400 V) down to one or more low-voltage, high-current outputs. The resulting large turns-ratio in the isolation transformer requires a primary winding that utilizes many turns of relatively small wire and larger, high-current secondary windings that typically contain only a few turns (e.g., less than 10-15 turns). Due to larger current requirements, the secondary windings usually have a relatively large cross-sectional area. The large cross-sectional area of the secondary windings often causes difficulty in winding the transformers and can also lead to significant high-frequency loss due to the skin effect and the proximity effect.\n",
      "Due to the high current density required for high power transformers, litz wire may be utilized to wind secondary windings directly onto the bobbin. Litz wire may provide the flexibility required to maneuver the wire, but can be very costly for some applications. Additionally, the use of litz wire for multiple outputs (e.g., multiple secondary windings) requires significant hand labor and leads to poor overall copper utilization of the available space due to a large percentage of insulation in the litz wire. Additionally, the cost of manufacturing a transformer with litz wire may be relatively high and prone to manufacturing mistakes and errors.\n",
      "FIGS. 1A-1C illustrate a prior art EE-type core assembly 20 and bobbin 10 used to wind an EE transformer 35. The outside diameter of a rim 16 of the bobbin 10 may be approximately the same as the outer diameter of the window area of the core assembly 20. In practice, the rim 16 of the bobbin 10 may have a diameter that is slightly smaller than the window area of the core assembly 20 to insure clearance for assembly of the core assembly 20 onto the bobbin 10 to form the transformer 35. The core assembly 20 may include a top half 22 having two outer legs 26, 28, and a center leg 30 sized to be insertable into a hollow portion of the bobbin 10. The core assembly 20 may also include a bottom half 24 having two outer legs 32, 34, and a center leg 36.\n",
      "The standard method of wrapping a winding (e.g., the winding wire 38 shown in FIG. 38) for the transformer 35 is to attach a wire to a bobbin pin (e.g., a pin 14), wrap the wire around a winding surface 12 of the bobbin 10 as many times as necessary to achieve the desired number of turns, and then terminate the wire on another bobbin pin. This method may be repeated for all of the windings on the transformer 35. Additionally, one or more layers of insulation material 36 may be provided around one or more of the windings for electrical isolation.\n",
      "If the transformer design maximizes the use of the available window area, then the copper winding's outermost diameter may be approximately the same as the outside diameter of the rim 16 of the bobbin 10. In the case of large current-carrying secondary windings, the windings may typically be composed of litz wire or copper foil. In either case, additional termination leads may need to be added to the litz wire or to the copper foil to connect the wire to a bobbin pin. Also, in either case, the windings of the transformer may use as much of the available window area as possible.\n",
      "SUMMARY\n",
      "The following embodiments and aspects of thereof are described and illustrated in conjunction with systems, tools, and methods which are meant to be exemplary and illustrative, and not limiting in scope. In various embodiments, one or more of the above-described problems have been reduced or eliminated, while other embodiments are directed to other improvements.\n",
      "According to a first aspect, a transformer is provided that includes a bobbin having a winding surface and hollow portion configured to receive a portion of a core assembly. The transformer also includes a first winding wrapped around the winding surface, and a second winding disposed over the winding surface. The second winding is sufficiently rigid such that it may be pre-formed prior to assembly of the transformer. The transformer also includes a core assembly disposed proximate to the bobbin, wherein a portion of the core assembly is disposed within the hollow portion of the bobbin.\n",
      "According to a second aspect, a method for forming a transformer is provided. The method includes providing a bobbin including a winding surface and a hollow portion, the hollow portion configured for receiving at least a portion of a core assembly. The method also includes winding a first conductor around the winding surface of the bobbin, and pre-forming a second conductor into a coil configuration that includes one or more turns, the second conductor being sufficiently rigid such that it may substantially maintain a pre-formed shaped without external support. The method, further includes positioning the second conductor over the winding surface by passing the second conductor over one end of the bobbin, and inserting at least a portion of a core assembly into the hollow portion of the bobbin.\n",
      "According to a third aspect, a transformer is provided that includes a bobbin having a winding surface, a hollow portion configured to receive a portion of a core assembly, and a plurality of pins The transformer also includes a first winding wrapped, around the winding surface, and a second winding disposed over the winding surface. The second winding is sufficiently rigid such that it may be pre-formed prior to assembly of the transformer. The transformer further includes a third winding disposed over the winding surface, the third winding being sufficiently rigid such that it may be pre-formed prior to assembly of the transformer. In addition, the second winding and the third winding are interwoven together. The transformer also includes a core assembly disposed proximate to the bobbin, wherein a portion of the core assembly is disposed within the hollow portion of the bobbin. In addition, the transformer includes a circuit board, wherein at least one of the plurality pins of the bobbin is coupled to the circuit board, and wherein at least a portion of the second winding and a portion of the third winding are coupled directly to the circuit board.\n",
      "In addition to the exemplary aspects and embodiments described above, further aspects and embodiments will become apparent by reference to the drawings and by study of the following descriptions.\n",
      "BRIEF DESCRIPTION OF THE DRAWINGS\n",
      "FIGS. 1A-1C illustrate a prior art EE-type transformer.\n",
      "FIG. 2 illustrates an exemplary bobbin that may be included as part of a transformer.\n",
      "FIG. 3 illustrates a plurality of secondary windings that may be positioned over a winding surface of the bobbin shown in FIG. 2 to form a transformer.\n",
      "FIG. 4 illustrates the secondary windings shown in FIG. 3 after they have been interwoven or screwed together.\n",
      "FIG. 5 illustrates a plurality of secondary windings made of a flat wire that may be included as part of a transformer.\n",
      "FIG. 6 illustrates the plurality of secondary windings positioned over a bobbin, both of which may be included as parts of a transformer.\n",
      "FIG. 7 illustrates an exemplary transformer.\n",
      "FIG. 8 illustrates a cross-sectional view of exemplary bobbin that includes primary and secondary windings.\n",
      "DETAILED DESCRIPTION\n",
      "While the invention is susceptible to various modifications and alternative forms, specific embodiments thereof have been shown by way of example in the drawings and are herein described in detail. It should be understood, however, that it is not intended to limit the invention to the particular form disclosed, but rather, the invention is to cover all modifications, equivalents, and alternatives falling within the scope and spirit of the invention as defined by the claims.\n",
      "The aforementioned problems and other problems are solved by the features described herein by providing transformers having bobbins that are constructed in such a way that pre-formed secondary windings (e.g., resembling springs) may be slipped onto the bobbins after a primary winding has been wound onto the bobbin. Additionally, the secondary windings may also serve as a self-leading device. That is, they may not require terminations on pins of the bobbin, which further reduces cost and complexity. The transformer winding techniques described herein may reduce the number of components, and may promote smaller input filters and/or less filtering stages at a fraction of the cost of conventional transformers.\n",
      "In an embodiment shown in FIGS. 2-4, a primary winding 58 is wound on a bobbin 50 using insulated wire, and then insulating tape 54 may be added for further insulation. It is noted that the primary winding 58 alone fills the winding surface of the bobbin 50 to a diameter that is substantially equal to the diameter of a rim 56 of the bobbin 50. That is, the diameter of the rim 56 of the bobbin 50 may be relatively small, compared to conventional bobbins.\n",
      "FIG. 3 illustrates three secondary windings 60, 62, and 64 that may be used to form a transformer. The secondary windings 60, 62, 64 may be preformed as a spring (or coil) in a process separate from wrapping the primary winding 58 on the bobbin 50, thereby reducing the manufacturing time and hand labor operations required (e.g., compared to the time and labor required if litz wire was used). In this regard, the windings 60, 62, 64 may be configured to be somewhat rigid, such that they maintain their pre-formed shape without requiring an external support structure (e.g., a bobbin). Further, the secondary windings 60, 62, and 64 may be used as pins themselves to be inserted directly onto a circuit board (e.g., see FIG. 7), thereby eliminating the need to solder the windings to pins on the bobbin 50, and to then solder the pins of the bobbin 50 to a circuit board.\n",
      "FIG. 3 shows the three secondary windings 60, 62, and 64 next to the bobbin 50, which already has the primary winding (e.g., the primary winding 58 shown in FIG. 2) wound onto it. The secondary windings (or springs) 60, 62, 64 may then be put together as shown in FIG. 4 by “screwing” or interweaving them together. After the secondary windings 60, 62, and 64 are coupled together, they may then be slid over the primary winding 58 that is already wound around the bobbin 50. Once the bobbin 50 and the windings 60, 62, and 64 have been assembled, a core assembly may be inserted into the hollow portions of the bobbin 50 to form a transformer.\n",
      "FIG. 5 illustrates a plurality of strands 70 of flat wire that may also be used to form the secondary windings (or springs) for a transformer. Once the strands 70 have been pre-formed as shown in FIG. 5, they may then be slid onto the bobbin 50 on top of the primary winding, as shown in FIG. 6.\n",
      "As shown in FIG. 7, after sliding the strands 70 of secondary windings (or springs) onto the bobbin 50, an EE core 75 may be placed into the bobbin 50 and the entire structure may be soldered to a circuit board 78 to form a transformer 80. It will be appreciated that the pre-formed strands 70 of the secondary windings may be soldered directly onto the circuit board 78 without needing to utilize any pins of the bobbin 50. Of course, other types of core assemblies (e.g., EI-type core assemblies) may be used as well. Further, other types and numbers of winding may be used.\n",
      "The use of the manufacturing-friendly transformers described herein also allow the creation of winding configurations that would be very difficult to achieve if one used standard winding techniques. An example is shows in FIG. 8, which illustrates a cross-section of a window area for a bobbin 90 that may be part of a transformer. The top layer of windings 92 a-c (i.e., the rectangular shaped bars) may be secondary windings, and the rows below the windings 92 a-d include other winding layers 96 (e.g., other primary or secondary windings). The secondary windings 92 a-c may be composed of flat wires (e.g., such as the strands 70 of flat wires shown in FIGS. 5-7) that are oriented vertically. That is, the windings 92 a-c each have a cross-sectional area that has a major-axis (e.g., oriented vertically in FIG. 8) and a minor-axis (oriented horizontally in FIG. 8), and the minor-axis is parallel to the winding surface of the bobbin 90. As can be appreciated, this winding configuration may easily be achieved with the transformer construction described herein, but using conventional winding techniques, it would be very difficult to wrap the windings 92 a-c in this vertical orientation directly onto the bobbin 90. In addition to the various windings, insulation layers 94 may be included to further isolate the windings from each other and/or other components.\n",
      "While the invention has been illustrated and described in detail in the drawings and foregoing description, such illustration and description is to be considered as exemplary and not restrictive in character. For example, certain embodiments described hereinabove may be combinable with other described embodiments and/or arranged in other ways (e.g., process elements may be performed in other sequences) Accordingly, it should be understood that only the preferred embodiment and variants thereof have been shown and described and that all changes and modifications that come within the spirit of the invention are desired to be protected.\n",
      "\n",
      "\n",
      "Claims (11)\n",
      "\n",
      "\n",
      "1. A method for forming a transformer, the method comprising:\n",
      "providing a bobbin comprising a winding surface and a hollow portion, the hollow portion configured for receiving at least a portion of a core assembly;\n",
      "winding a first conductor around the winding surface of the bobbin;\n",
      "pre-forming a second conductor into a first coil configuration that includes one or more turns, the second conductor being sufficiently rigid to substantially maintain the first pre-formed coil configuration without support by an external structure;\n",
      "positioning the second conductor over the winding surface by passing the second conductor over one end of the bobbin; and\n",
      "inserting at least the portion of the core assembly into the hollow portion of the bobbin.\n",
      "2. The method of claim 1, further comprising:\n",
      "pre-forming a third conductor into a second coil configuration that includes one or more turns, the third conductor being sufficiently rigid to substantially maintain the second pre-formed coil configuration without support by an external structure; and\n",
      "positioning the third conductor over the winding surface by passing the third conductor over one end of the bobbin.\n",
      "3. The method of claim 2, further comprising:\n",
      "interweaving the second conductor and the third conductor together prior to positioning the second conductor and the third conductor over the winding surface.\n",
      "4. The method of claim 1, further comprising:\n",
      "positioning an insulating layer over the winding surface between the first conductor and the second conductor.\n",
      "5. The method of claim 1, wherein the core assembly includes two E-shaped sections.\n",
      "6. The method of claim 1, wherein the core assembly include an E-shaped section and an I-shaped section.\n",
      "7. The method of claim 1, further comprising:\n",
      "coupling a first end and a second end of the second conductor to a circuit board.\n",
      "8. The method of claim 1, wherein the coupling step includes soldering the first end and the second end of the second conductor to the circuit board.\n",
      "9. The method of claim 1, wherein the second conductor has a non-circular cross-sectional area.\n",
      "10. The method of claim 9, wherein the cross-section of the second conductor has a major axis and a minor axis, and wherein the pre-forming step comprises:\n",
      "forming the second conductor into a coil such that the minor axis is substantially parallel to the winding surface when the second conductor is positioned over the winding surface.\n",
      "11. The method of claim 9, further comprising:\n",
      "pre-forming a third conductor into a second coil configuration that includes one or more turns, the third conductor being sufficiently rigid to substantially maintain the second pre-formed coil configuration without support by an external structure, the third conductor having a non-circular cross-sectional area; and\n",
      "interweaving the second conductor and the third conductor together prior to positioning the second conductor and the third conductor over the winding surface.\n",
      "\n",
      "\n",
      "\n",
      "GPT-4 Licensing Opportunities & Patent Value Suggestions: This patent describes a method for forming a transformer with preformed secondary windings, reducing the number of components, manufacturing time, and hand labor operations compared to conventional transformers. It also seems to reduce high-frequency loss problems common with use of litz wire and copper foil in winding transformers. The innovation can be used in power converts, transformers, inductors and is particualry beneficial in electronic devices like cell phones, computers, TVs, as well as AI-powered devices and renewable energy solutions.\n",
      "\n",
      "Licensing opportunities:\n",
      "\n",
      "1. Electronics manufacturers: Given the universal use of transformers in various electronic equipment such as computers, televisions, telephones, etc., companies that manufacture these devices could benefit from the efficient manufacturing and optimized design features of the transformer outlined in the patent.\n",
      "   \n",
      "2. Power Supply Companies: Companies that design and manufacture switched mode power supplies (SMPS) for consumer electronics, as well as providers of desktop ATX computer power supplies, could optimize their current solutions with this patent's approach.\n",
      "\n",
      "3. Renewable Energy Technology Providers: This patent can improve energy efficiency, reduce size and weight of transformers, all of which are highly desirable in renewable energy power solutions. Licensing this patent to renewable energy technology providers can allow more effective and efficient transformers in solar panel inverters, wind energy converters etc. \n",
      "\n",
      "4. AI-Powered Medical Diagnostics Manufacturers: As healthcare is moving towards smart and connected technologies, the patented technology may improve the energy efficiency and reliability of AI-powered devices in healthtech. \n",
      "\n",
      "In terms of the patent's value, considering the ubiquity of transformers in electronic devices and the need for improved efficiency and reliability, beyond the cost savings from manufacturing, the technology presents a significant opportunity to enhance product performance and sustainability. Given the growth trajectory within the electronics, energy efficiency, and renewable energy sectors, the potential market size is vast, making the patent highly valuable. The patent value should be further evaluated considering the potential licensing fees, reduced production cost, increased market share, and other economic benefits this patent can offer to the potential licensees. However, a full patent valuation would require a more detailed analysis encompassing factors like the remaining lifespan of the patent, litigation risk, the financial health of potential licensees, as well as economic and technological trends in the industry.\n",
      "Function 'analyze_patent_value_and_opportunities' took 22.1010 seconds\n",
      "Function 'upload_and_analyze_patent_for_licensing' took 22.1080 seconds\n",
      "Patent Licensing Opportunities & Market Value Suggestions:\n",
      "This patent describes a method for forming a transformer with preformed secondary windings, reducing the number of components, manufacturing time, and hand labor operations compared to conventional transformers. It also seems to reduce high-frequency loss problems common with use of litz wire and copper foil in winding transformers. The innovation can be used in power converts, transformers, inductors and is particualry beneficial in electronic devices like cell phones, computers, TVs, as well as AI-powered devices and renewable energy solutions.\n",
      "\n",
      "Licensing opportunities:\n",
      "\n",
      "1. Electronics manufacturers: Given the universal use of transformers in various electronic equipment such as computers, televisions, telephones, etc., companies that manufacture these devices could benefit from the efficient manufacturing and optimized design features of the transformer outlined in the patent.\n",
      "   \n",
      "2. Power Supply Companies: Companies that design and manufacture switched mode power supplies (SMPS) for consumer electronics, as well as providers of desktop ATX computer power supplies, could optimize their current solutions with this patent's approach.\n",
      "\n",
      "3. Renewable Energy Technology Providers: This patent can improve energy efficiency, reduce size and weight of transformers, all of which are highly desirable in renewable energy power solutions. Licensing this patent to renewable energy technology providers can allow more effective and efficient transformers in solar panel inverters, wind energy converters etc. \n",
      "\n",
      "4. AI-Powered Medical Diagnostics Manufacturers: As healthcare is moving towards smart and connected technologies, the patented technology may improve the energy efficiency and reliability of AI-powered devices in healthtech. \n",
      "\n",
      "In terms of the patent's value, considering the ubiquity of transformers in electronic devices and the need for improved efficiency and reliability, beyond the cost savings from manufacturing, the technology presents a significant opportunity to enhance product performance and sustainability. Given the growth trajectory within the electronics, energy efficiency, and renewable energy sectors, the potential market size is vast, making the patent highly valuable. The patent value should be further evaluated considering the potential licensing fees, reduced production cost, increased market share, and other economic benefits this patent can offer to the potential licensees. However, a full patent valuation would require a more detailed analysis encompassing factors like the remaining lifespan of the patent, litigation risk, the financial health of potential licensees, as well as economic and technological trends in the industry.\n",
      "Function 'patent_licensing_opportunities_pipeline' took 22.1112 seconds\n"
     ]
    },
    {
     "data": {
      "application/vnd.google.colaboratory.intrinsic+json": {
       "type": "string"
      },
      "text/plain": [
       "\"This patent describes a method for forming a transformer with preformed secondary windings, reducing the number of components, manufacturing time, and hand labor operations compared to conventional transformers. It also seems to reduce high-frequency loss problems common with use of litz wire and copper foil in winding transformers. The innovation can be used in power converts, transformers, inductors and is particualry beneficial in electronic devices like cell phones, computers, TVs, as well as AI-powered devices and renewable energy solutions.\\n\\nLicensing opportunities:\\n\\n1. Electronics manufacturers: Given the universal use of transformers in various electronic equipment such as computers, televisions, telephones, etc., companies that manufacture these devices could benefit from the efficient manufacturing and optimized design features of the transformer outlined in the patent.\\n   \\n2. Power Supply Companies: Companies that design and manufacture switched mode power supplies (SMPS) for consumer electronics, as well as providers of desktop ATX computer power supplies, could optimize their current solutions with this patent's approach.\\n\\n3. Renewable Energy Technology Providers: This patent can improve energy efficiency, reduce size and weight of transformers, all of which are highly desirable in renewable energy power solutions. Licensing this patent to renewable energy technology providers can allow more effective and efficient transformers in solar panel inverters, wind energy converters etc. \\n\\n4. AI-Powered Medical Diagnostics Manufacturers: As healthcare is moving towards smart and connected technologies, the patented technology may improve the energy efficiency and reliability of AI-powered devices in healthtech. \\n\\nIn terms of the patent's value, considering the ubiquity of transformers in electronic devices and the need for improved efficiency and reliability, beyond the cost savings from manufacturing, the technology presents a significant opportunity to enhance product performance and sustainability. Given the growth trajectory within the electronics, energy efficiency, and renewable energy sectors, the potential market size is vast, making the patent highly valuable. The patent value should be further evaluated considering the potential licensing fees, reduced production cost, increased market share, and other economic benefits this patent can offer to the potential licensees. However, a full patent valuation would require a more detailed analysis encompassing factors like the remaining lifespan of the patent, litigation risk, the financial health of potential licensees, as well as economic and technological trends in the industry.\""
      ]
     },
     "execution_count": 75,
     "metadata": {},
     "output_type": "execute_result"
    }
   ],
   "source": [
    "import requests\n",
    "import openai\n",
    "from transformers import pipeline\n",
    "from google.colab import userdata\n",
    "import time\n",
    "import os\n",
    "\n",
    "# Set OpenAI API key for GPT-4\n",
    "openai.api_key = userdata.get('OPENAI_API_KEY')\n",
    "os.environ['OPENAI_API_KEY'] = userdata.get('OPENAI_API_KEY')\n",
    "\n",
    "# Timer decorator to track execution time of functions\n",
    "def timer_decorator(func):\n",
    "    def wrapper(*args, **kwargs):\n",
    "        start_time = time.time()\n",
    "        result = func(*args, **kwargs)\n",
    "        end_time = time.time()\n",
    "        print(f\"Function '{func.__name__}' took {end_time - start_time:.4f} seconds\")\n",
    "        return result\n",
    "    return wrapper\n",
    "from openai import OpenAI\n",
    "client = OpenAI()\n",
    "# 1. Licensing Opportunities & Patent Value Analysis using GPT-4\n",
    "@timer_decorator\n",
    "def analyze_patent_value_and_opportunities(claims, market_data, patent_applications):\n",
    "    \"\"\"\n",
    "    Uses GPT-4 to analyze patent claims and find licensing opportunities and market trends.\n",
    "    Evaluates the patent value in the context of market trends and potential applications.\n",
    "    \"\"\"\n",
    "    print(f\"Analyzing patent claims with GPT-4. Claims: {claims}\")\n",
    "\n",
    "    try:\n",
    "        response = client.chat.completions.create(\n",
    "            model=\"gpt-4\",\n",
    "            messages=[\n",
    "                {\"role\": \"system\", \"content\": \"You are a patent expert tasked with evaluating the value of a patent and identifying licensing opportunities.\"},\n",
    "                {\"role\": \"user\", \"content\": f\"Here are the patent claims:\\n{claims}\\nHere is relevant market data:\\n{market_data}\\nHere are some potential applications:\\n{patent_applications}\\nPlease suggest licensing opportunities and evaluate the value of this patent.\"}\n",
    "            ]\n",
    "        )\n",
    "        gpt_result = response.choices[0].message.content #response.choices[0].message.content\n",
    "        print(f\"GPT-4 Licensing Opportunities & Patent Value Suggestions: {gpt_result}\")\n",
    "        return gpt_result\n",
    "    except Exception as e:\n",
    "        print(f\"Error during GPT-4 API call: {e}\")\n",
    "        return \"Error in GPT-4 processing\"\n",
    "\n",
    "# 2. Example: Upload and Analyze Patent Claims for Licensing and Value\n",
    "@timer_decorator\n",
    "def upload_and_analyze_patent_for_licensing(file_path, market_data, patent_applications):\n",
    "    \"\"\"\n",
    "    Uploads a patent document, extracts claims, and analyzes them for licensing opportunities and market value.\n",
    "    \"\"\"\n",
    "    print(f\"Uploading and analyzing patent claims from file: {file_path}\")\n",
    "\n",
    "    # Mock function to simulate reading and extracting claims from a patent file\n",
    "    with open(file_path, 'r') as file:\n",
    "        claims = file.read()  # Assume the file contains patent claims in plain text\n",
    "\n",
    "    # Analyze the claims using GPT-4\n",
    "    suggestions = analyze_patent_value_and_opportunities(claims, market_data, patent_applications)\n",
    "\n",
    "    return suggestions\n",
    "\n",
    "# 3. Full Pipeline for Licensing and Market Value Analysis\n",
    "@timer_decorator\n",
    "def patent_licensing_opportunities_pipeline(file_path, market_data, patent_applications):\n",
    "    \"\"\"\n",
    "    Pipeline to analyze patent claims for licensing opportunities and evaluate their market value using GPT-4.\n",
    "    \"\"\"\n",
    "    print(f\"Starting patent licensing and value analysis pipeline for file: {file_path}\")\n",
    "\n",
    "    # Step 1: Upload and analyze patent claims\n",
    "    suggestions = upload_and_analyze_patent_for_licensing(file_path, market_data, patent_applications)\n",
    "\n",
    "    print(\"Patent Licensing Opportunities & Market Value Suggestions:\")\n",
    "    print(suggestions)\n",
    "    return suggestions\n",
    "\n",
    "# Example usage:\n",
    "file_path = \"/content/drive/MyDrive/Colab Notebooks/sample_patent.txt\"  # Provide the path to a file containing patent claims\n",
    "market_data = \"\"\"\n",
    "- Increasing demand for renewable energy solutions.\n",
    "- Emerging market for AI-driven technologies in healthcare.\n",
    "- Government incentives for energy-efficient technologies.\n",
    "\"\"\"\n",
    "patent_applications = \"\"\"\n",
    "- Application in AI-powered medical diagnostics.\n",
    "- Potential use in energy-efficient smart grids.\n",
    "- Licensing to renewable energy solution providers.\n",
    "\"\"\"\n",
    "patent_licensing_opportunities_pipeline(file_path, market_data, patent_applications)\n"
   ]
  },
  {
   "cell_type": "code",
   "execution_count": null,
   "metadata": {
    "id": "wIAclhhQAO6s"
   },
   "outputs": [],
   "source": []
  }
 ],
 "metadata": {
  "colab": {
   "provenance": []
  },
  "kernelspec": {
   "display_name": "Python 3 (ipykernel)",
   "language": "python",
   "name": "python3"
  },
  "language_info": {
   "codemirror_mode": {
    "name": "ipython",
    "version": 3
   },
   "file_extension": ".py",
   "mimetype": "text/x-python",
   "name": "python",
   "nbconvert_exporter": "python",
   "pygments_lexer": "ipython3",
   "version": "3.10.15"
  }
 },
 "nbformat": 4,
 "nbformat_minor": 1
}

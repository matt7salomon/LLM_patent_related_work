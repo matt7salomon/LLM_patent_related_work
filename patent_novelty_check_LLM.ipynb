{
  "cells": [
    {
      "cell_type": "code",
      "execution_count": null,
      "metadata": {
        "id": "sJ-fzarbjivh"
      },
      "outputs": [],
      "source": []
    },
    {
      "cell_type": "code",
      "execution_count": 1,
      "metadata": {
        "colab": {
          "base_uri": "https://localhost:8080/"
        },
        "id": "BX-ICj2fjivj",
        "outputId": "78d8e74c-c6ed-436b-e4b8-41fa27956222"
      },
      "outputs": [
        {
          "output_type": "stream",
          "name": "stdout",
          "text": [
            "2.4.1+cu121\n",
            "4.44.2\n"
          ]
        }
      ],
      "source": [
        "import torch\n",
        "import transformers\n",
        "\n",
        "print(torch.__version__)\n",
        "print(transformers.__version__)"
      ]
    },
    {
      "cell_type": "code",
      "source": [
        "pip install openai"
      ],
      "metadata": {
        "colab": {
          "base_uri": "https://localhost:8080/"
        },
        "id": "Y0uUXwFNms-G",
        "outputId": "541abc50-fccc-4788-f051-53cc3bab2f21"
      },
      "execution_count": 9,
      "outputs": [
        {
          "output_type": "stream",
          "name": "stdout",
          "text": [
            "Collecting openai\n",
            "  Downloading openai-1.47.1-py3-none-any.whl.metadata (24 kB)\n",
            "Requirement already satisfied: anyio<5,>=3.5.0 in /usr/local/lib/python3.10/dist-packages (from openai) (3.7.1)\n",
            "Requirement already satisfied: distro<2,>=1.7.0 in /usr/lib/python3/dist-packages (from openai) (1.7.0)\n",
            "Collecting httpx<1,>=0.23.0 (from openai)\n",
            "  Downloading httpx-0.27.2-py3-none-any.whl.metadata (7.1 kB)\n",
            "Collecting jiter<1,>=0.4.0 (from openai)\n",
            "  Downloading jiter-0.5.0-cp310-cp310-manylinux_2_17_x86_64.manylinux2014_x86_64.whl.metadata (3.6 kB)\n",
            "Requirement already satisfied: pydantic<3,>=1.9.0 in /usr/local/lib/python3.10/dist-packages (from openai) (2.9.2)\n",
            "Requirement already satisfied: sniffio in /usr/local/lib/python3.10/dist-packages (from openai) (1.3.1)\n",
            "Requirement already satisfied: tqdm>4 in /usr/local/lib/python3.10/dist-packages (from openai) (4.66.5)\n",
            "Requirement already satisfied: typing-extensions<5,>=4.11 in /usr/local/lib/python3.10/dist-packages (from openai) (4.12.2)\n",
            "Requirement already satisfied: idna>=2.8 in /usr/local/lib/python3.10/dist-packages (from anyio<5,>=3.5.0->openai) (3.10)\n",
            "Requirement already satisfied: exceptiongroup in /usr/local/lib/python3.10/dist-packages (from anyio<5,>=3.5.0->openai) (1.2.2)\n",
            "Requirement already satisfied: certifi in /usr/local/lib/python3.10/dist-packages (from httpx<1,>=0.23.0->openai) (2024.8.30)\n",
            "Collecting httpcore==1.* (from httpx<1,>=0.23.0->openai)\n",
            "  Downloading httpcore-1.0.5-py3-none-any.whl.metadata (20 kB)\n",
            "Collecting h11<0.15,>=0.13 (from httpcore==1.*->httpx<1,>=0.23.0->openai)\n",
            "  Downloading h11-0.14.0-py3-none-any.whl.metadata (8.2 kB)\n",
            "Requirement already satisfied: annotated-types>=0.6.0 in /usr/local/lib/python3.10/dist-packages (from pydantic<3,>=1.9.0->openai) (0.7.0)\n",
            "Requirement already satisfied: pydantic-core==2.23.4 in /usr/local/lib/python3.10/dist-packages (from pydantic<3,>=1.9.0->openai) (2.23.4)\n",
            "Downloading openai-1.47.1-py3-none-any.whl (375 kB)\n",
            "\u001b[2K   \u001b[90m━━━━━━━━━━━━━━━━━━━━━━━━━━━━━━━━━━━━━━━━\u001b[0m \u001b[32m375.6/375.6 kB\u001b[0m \u001b[31m16.5 MB/s\u001b[0m eta \u001b[36m0:00:00\u001b[0m\n",
            "\u001b[?25hDownloading httpx-0.27.2-py3-none-any.whl (76 kB)\n",
            "\u001b[2K   \u001b[90m━━━━━━━━━━━━━━━━━━━━━━━━━━━━━━━━━━━━━━━━\u001b[0m \u001b[32m76.4/76.4 kB\u001b[0m \u001b[31m4.7 MB/s\u001b[0m eta \u001b[36m0:00:00\u001b[0m\n",
            "\u001b[?25hDownloading httpcore-1.0.5-py3-none-any.whl (77 kB)\n",
            "\u001b[2K   \u001b[90m━━━━━━━━━━━━━━━━━━━━━━━━━━━━━━━━━━━━━━━━\u001b[0m \u001b[32m77.9/77.9 kB\u001b[0m \u001b[31m5.1 MB/s\u001b[0m eta \u001b[36m0:00:00\u001b[0m\n",
            "\u001b[?25hDownloading jiter-0.5.0-cp310-cp310-manylinux_2_17_x86_64.manylinux2014_x86_64.whl (318 kB)\n",
            "\u001b[2K   \u001b[90m━━━━━━━━━━━━━━━━━━━━━━━━━━━━━━━━━━━━━━━━\u001b[0m \u001b[32m318.9/318.9 kB\u001b[0m \u001b[31m16.8 MB/s\u001b[0m eta \u001b[36m0:00:00\u001b[0m\n",
            "\u001b[?25hDownloading h11-0.14.0-py3-none-any.whl (58 kB)\n",
            "\u001b[2K   \u001b[90m━━━━━━━━━━━━━━━━━━━━━━━━━━━━━━━━━━━━━━━━\u001b[0m \u001b[32m58.3/58.3 kB\u001b[0m \u001b[31m3.6 MB/s\u001b[0m eta \u001b[36m0:00:00\u001b[0m\n",
            "\u001b[?25hInstalling collected packages: jiter, h11, httpcore, httpx, openai\n",
            "Successfully installed h11-0.14.0 httpcore-1.0.5 httpx-0.27.2 jiter-0.5.0 openai-1.47.1\n"
          ]
        }
      ]
    },
    {
      "cell_type": "code",
      "source": [
        "pip install google-cloud-bigquery"
      ],
      "metadata": {
        "colab": {
          "base_uri": "https://localhost:8080/"
        },
        "id": "G3TDUfVsoX8O",
        "outputId": "b8406b34-4659-46ab-d6fc-1fa839612bce"
      },
      "execution_count": 16,
      "outputs": [
        {
          "output_type": "stream",
          "name": "stdout",
          "text": [
            "Requirement already satisfied: google-cloud-bigquery in /usr/local/lib/python3.10/dist-packages (3.25.0)\n",
            "Requirement already satisfied: google-api-core!=2.0.*,!=2.1.*,!=2.10.*,!=2.2.*,!=2.3.*,!=2.4.*,!=2.5.*,!=2.6.*,!=2.7.*,!=2.8.*,!=2.9.*,<3.0.0dev,>=1.34.1 in /usr/local/lib/python3.10/dist-packages (from google-api-core[grpc]!=2.0.*,!=2.1.*,!=2.10.*,!=2.2.*,!=2.3.*,!=2.4.*,!=2.5.*,!=2.6.*,!=2.7.*,!=2.8.*,!=2.9.*,<3.0.0dev,>=1.34.1->google-cloud-bigquery) (2.19.2)\n",
            "Requirement already satisfied: google-auth<3.0.0dev,>=2.14.1 in /usr/local/lib/python3.10/dist-packages (from google-cloud-bigquery) (2.27.0)\n",
            "Requirement already satisfied: google-cloud-core<3.0.0dev,>=1.6.0 in /usr/local/lib/python3.10/dist-packages (from google-cloud-bigquery) (2.4.1)\n",
            "Requirement already satisfied: google-resumable-media<3.0dev,>=0.6.0 in /usr/local/lib/python3.10/dist-packages (from google-cloud-bigquery) (2.7.2)\n",
            "Requirement already satisfied: packaging>=20.0.0 in /usr/local/lib/python3.10/dist-packages (from google-cloud-bigquery) (24.1)\n",
            "Requirement already satisfied: python-dateutil<3.0dev,>=2.7.2 in /usr/local/lib/python3.10/dist-packages (from google-cloud-bigquery) (2.8.2)\n",
            "Requirement already satisfied: requests<3.0.0dev,>=2.21.0 in /usr/local/lib/python3.10/dist-packages (from google-cloud-bigquery) (2.32.3)\n",
            "Requirement already satisfied: googleapis-common-protos<2.0.dev0,>=1.56.2 in /usr/local/lib/python3.10/dist-packages (from google-api-core!=2.0.*,!=2.1.*,!=2.10.*,!=2.2.*,!=2.3.*,!=2.4.*,!=2.5.*,!=2.6.*,!=2.7.*,!=2.8.*,!=2.9.*,<3.0.0dev,>=1.34.1->google-api-core[grpc]!=2.0.*,!=2.1.*,!=2.10.*,!=2.2.*,!=2.3.*,!=2.4.*,!=2.5.*,!=2.6.*,!=2.7.*,!=2.8.*,!=2.9.*,<3.0.0dev,>=1.34.1->google-cloud-bigquery) (1.65.0)\n",
            "Requirement already satisfied: protobuf!=3.20.0,!=3.20.1,!=4.21.0,!=4.21.1,!=4.21.2,!=4.21.3,!=4.21.4,!=4.21.5,<6.0.0.dev0,>=3.19.5 in /usr/local/lib/python3.10/dist-packages (from google-api-core!=2.0.*,!=2.1.*,!=2.10.*,!=2.2.*,!=2.3.*,!=2.4.*,!=2.5.*,!=2.6.*,!=2.7.*,!=2.8.*,!=2.9.*,<3.0.0dev,>=1.34.1->google-api-core[grpc]!=2.0.*,!=2.1.*,!=2.10.*,!=2.2.*,!=2.3.*,!=2.4.*,!=2.5.*,!=2.6.*,!=2.7.*,!=2.8.*,!=2.9.*,<3.0.0dev,>=1.34.1->google-cloud-bigquery) (3.20.3)\n",
            "Requirement already satisfied: proto-plus<2.0.0dev,>=1.22.3 in /usr/local/lib/python3.10/dist-packages (from google-api-core!=2.0.*,!=2.1.*,!=2.10.*,!=2.2.*,!=2.3.*,!=2.4.*,!=2.5.*,!=2.6.*,!=2.7.*,!=2.8.*,!=2.9.*,<3.0.0dev,>=1.34.1->google-api-core[grpc]!=2.0.*,!=2.1.*,!=2.10.*,!=2.2.*,!=2.3.*,!=2.4.*,!=2.5.*,!=2.6.*,!=2.7.*,!=2.8.*,!=2.9.*,<3.0.0dev,>=1.34.1->google-cloud-bigquery) (1.24.0)\n",
            "Requirement already satisfied: grpcio<2.0dev,>=1.33.2 in /usr/local/lib/python3.10/dist-packages (from google-api-core[grpc]!=2.0.*,!=2.1.*,!=2.10.*,!=2.2.*,!=2.3.*,!=2.4.*,!=2.5.*,!=2.6.*,!=2.7.*,!=2.8.*,!=2.9.*,<3.0.0dev,>=1.34.1->google-cloud-bigquery) (1.64.1)\n",
            "Requirement already satisfied: grpcio-status<2.0.dev0,>=1.33.2 in /usr/local/lib/python3.10/dist-packages (from google-api-core[grpc]!=2.0.*,!=2.1.*,!=2.10.*,!=2.2.*,!=2.3.*,!=2.4.*,!=2.5.*,!=2.6.*,!=2.7.*,!=2.8.*,!=2.9.*,<3.0.0dev,>=1.34.1->google-cloud-bigquery) (1.48.2)\n",
            "Requirement already satisfied: cachetools<6.0,>=2.0.0 in /usr/local/lib/python3.10/dist-packages (from google-auth<3.0.0dev,>=2.14.1->google-cloud-bigquery) (5.5.0)\n",
            "Requirement already satisfied: pyasn1-modules>=0.2.1 in /usr/local/lib/python3.10/dist-packages (from google-auth<3.0.0dev,>=2.14.1->google-cloud-bigquery) (0.4.1)\n",
            "Requirement already satisfied: rsa<5,>=3.1.4 in /usr/local/lib/python3.10/dist-packages (from google-auth<3.0.0dev,>=2.14.1->google-cloud-bigquery) (4.9)\n",
            "Requirement already satisfied: google-crc32c<2.0dev,>=1.0 in /usr/local/lib/python3.10/dist-packages (from google-resumable-media<3.0dev,>=0.6.0->google-cloud-bigquery) (1.6.0)\n",
            "Requirement already satisfied: six>=1.5 in /usr/local/lib/python3.10/dist-packages (from python-dateutil<3.0dev,>=2.7.2->google-cloud-bigquery) (1.16.0)\n",
            "Requirement already satisfied: charset-normalizer<4,>=2 in /usr/local/lib/python3.10/dist-packages (from requests<3.0.0dev,>=2.21.0->google-cloud-bigquery) (3.3.2)\n",
            "Requirement already satisfied: idna<4,>=2.5 in /usr/local/lib/python3.10/dist-packages (from requests<3.0.0dev,>=2.21.0->google-cloud-bigquery) (3.10)\n",
            "Requirement already satisfied: urllib3<3,>=1.21.1 in /usr/local/lib/python3.10/dist-packages (from requests<3.0.0dev,>=2.21.0->google-cloud-bigquery) (2.2.3)\n",
            "Requirement already satisfied: certifi>=2017.4.17 in /usr/local/lib/python3.10/dist-packages (from requests<3.0.0dev,>=2.21.0->google-cloud-bigquery) (2024.8.30)\n",
            "Requirement already satisfied: pyasn1<0.7.0,>=0.4.6 in /usr/local/lib/python3.10/dist-packages (from pyasn1-modules>=0.2.1->google-auth<3.0.0dev,>=2.14.1->google-cloud-bigquery) (0.6.1)\n"
          ]
        }
      ]
    },
    {
      "cell_type": "code",
      "source": [
        "from google.colab import drive\n",
        "import os\n",
        "drive.mount('/content/drive')\n",
        "\n",
        "os.environ['GOOGLE_APPLICATION_CREDENTIALS']='/content/drive/MyDrive/Colab Notebooks/haystack-436323-fd77f9e327cc.json'"
      ],
      "metadata": {
        "colab": {
          "base_uri": "https://localhost:8080/"
        },
        "id": "TZs5c1gtqjbi",
        "outputId": "e4f5846a-b1e4-4bec-d369-ec6abf51ded7"
      },
      "execution_count": 20,
      "outputs": [
        {
          "output_type": "stream",
          "name": "stdout",
          "text": [
            "Drive already mounted at /content/drive; to attempt to forcibly remount, call drive.mount(\"/content/drive\", force_remount=True).\n"
          ]
        }
      ]
    },
    {
      "cell_type": "code",
      "source": [
        "import requests\n",
        "import openai\n",
        "from transformers import pipeline\n",
        "from sklearn.metrics.pairwise import cosine_similarity\n",
        "from sklearn.feature_extraction.text import TfidfVectorizer\n",
        "from google.colab import userdata\n",
        "import time\n",
        "\n",
        "# Set OpenAI API key for GPT-4\n",
        "openai.api_key = userdata.get('OPENAI_API_KEY')\n",
        "os.environ['OPENAI_API_KEY'] = userdata.get('OPENAI_API_KEY')\n",
        "# Timer decorator to track execution time of functions\n",
        "def timer_decorator(func):\n",
        "    def wrapper(*args, **kwargs):\n",
        "        start_time = time.time()\n",
        "        result = func(*args, **kwargs)\n",
        "        end_time = time.time()\n",
        "        print(f\"Function '{func.__name__}' took {end_time - start_time:.4f} seconds\")\n",
        "        return result\n",
        "    return wrapper\n",
        "\n",
        "# 1. Search Patents from Different Data Sources using a Stronger GPT-4 Integration\n",
        "@timer_decorator\n",
        "def search_patents_gpt(query, source, api_key=None):\n",
        "    \"\"\"\n",
        "    Searches for patents from different sources based on a flag.\n",
        "    Uses GPT-4 to process results and enhance the search quality.\n",
        "    Possible sources: 'lens', 'uspto', 'google_patents', 'wipo'\n",
        "    \"\"\"\n",
        "    print(f\"Searching patents with query: {query} on source: {source}\")\n",
        "\n",
        "    if source == \"lens\":\n",
        "        patents = search_patents_lens(query, api_key)\n",
        "    elif source == \"uspto\":\n",
        "        patents = search_patents_uspto(query)\n",
        "    elif source == \"google_patents\":\n",
        "        patents = search_google_patents(query)\n",
        "    elif source == \"wipo\":\n",
        "        patents = search_patents_wipo(query, api_key)\n",
        "    else:\n",
        "        raise ValueError(\"Invalid source provided. Choose from: 'lens', 'uspto', 'google_patents', 'wipo'.\")\n",
        "\n",
        "    print(f\"Patents retrieved: {patents}\")\n",
        "\n",
        "    if isinstance(patents, list) and len(patents) > 0:\n",
        "        titles = [patent['title'] for patent in patents]  # Extracting titles from the list of dictionaries\n",
        "        print(f\"Patent titles: {titles}\")\n",
        "        gpt_response = refine_search_with_gpt(query, titles)\n",
        "        return gpt_response\n",
        "    else:\n",
        "        print(\"No prior art found for comparison.\")\n",
        "        return \"No prior art found for comparison.\"\n",
        "\n",
        "\n",
        "# 2. Function to Enhance Search Using GPT-4\n",
        "from openai import OpenAI\n",
        "client = OpenAI()\n",
        "@timer_decorator\n",
        "def refine_search_with_gpt(query, titles):\n",
        "    \"\"\"\n",
        "    Uses GPT-4 to refine and summarize the patent titles retrieved from various sources.\n",
        "    \"\"\"\n",
        "    print(f\"Refining search with GPT-4. Query: {query}, Titles: {titles}\")\n",
        "\n",
        "    try:\n",
        "        response = client.chat.completions.create(\n",
        "            model=\"gpt-4\",\n",
        "            messages=[\n",
        "                {\"role\": \"system\", \"content\": \"You are a patent expert tasked with finding prior art for a new patent claim.\"},\n",
        "                {\"role\": \"user\", \"content\": f\"Patent claim: {query}\\nHere are some potential prior art titles: {titles}. Which ones are the most relevant, and why?\"}\n",
        "            ]\n",
        "        )\n",
        "        gpt_result = response.choices[0].message.content\n",
        "        #response.choices[0].message['content']\n",
        "        print(f\"GPT-4 response: {gpt_result}\")\n",
        "        return gpt_result\n",
        "    except Exception as e:\n",
        "        print(f\"Error during GPT-4 API call: {e}\")\n",
        "        return \"Error in GPT-4 processing\"\n",
        "\n",
        "# 3. Fetch Patent Data from Lens.org API (requires an API key)\n",
        "@timer_decorator\n",
        "def search_patents_lens(query, api_key):\n",
        "    \"\"\"\n",
        "    Searches Lens.org for patents based on a query.\n",
        "    Requires Lens.org API key for access.\n",
        "    \"\"\"\n",
        "    print(f\"Searching Lens.org with query: {query}\")\n",
        "\n",
        "    url = \"https://api.lens.org/scholarly/search\"\n",
        "    headers = {\n",
        "        'Authorization': f'Bearer {api_key}',\n",
        "        'Content-Type': 'application/json'\n",
        "    }\n",
        "    payload = {\n",
        "        \"query\": {\n",
        "            \"bool\": {\n",
        "                \"must\": [\n",
        "                    {\"match\": {\"text\": query}}\n",
        "                ]\n",
        "            }\n",
        "        },\n",
        "        \"size\": 10\n",
        "    }\n",
        "\n",
        "    response = requests.post(url, json=payload, headers=headers)\n",
        "\n",
        "    if response.status_code != 200:\n",
        "        print(f\"Error: Received status code {response.status_code}\")\n",
        "        print(f\"Response text: {response.text}\")\n",
        "        return {}\n",
        "\n",
        "    try:\n",
        "        return response.json()\n",
        "    except requests.exceptions.JSONDecodeError:\n",
        "        print(\"Error: Failed to parse JSON\")\n",
        "        print(f\"Response text: {response.text}\")\n",
        "        return {}\n",
        "\n",
        "# 4. Fetch Patent Data from USPTO (Public API)\n",
        "@timer_decorator\n",
        "def search_patents_uspto(query):\n",
        "    \"\"\"\n",
        "    Searches USPTO database for patents using bulk data search.\n",
        "    \"\"\"\n",
        "    print(f\"Searching USPTO with query: {query}\")\n",
        "\n",
        "    url = f\"https://developer.uspto.gov/ibd-api/v1/patent/application?searchText={query}&rows=10\"\n",
        "    response = requests.get(url)\n",
        "    return response.json()\n",
        "\n",
        "# 5. Fetch Patent Data from Google Patents (via BigQuery)\n",
        "@timer_decorator\n",
        "def search_google_patents(query):\n",
        "    \"\"\"\n",
        "    Searches Google Patents Public Dataset using BigQuery API.\n",
        "    Requires Google Cloud setup.\n",
        "    \"\"\"\n",
        "    print(f\"Searching Google Patents with query: {query}\")\n",
        "\n",
        "    client = bigquery.Client()\n",
        "\n",
        "    # Google Patents Public Datasets project and table\n",
        "    dataset_ref = \"patents-public-data.patents.publications\"\n",
        "\n",
        "    # Construct the query\n",
        "    sql = f\"\"\"\n",
        "        SELECT\n",
        "            publication_number,\n",
        "            title_localized,\n",
        "            ARRAY_TO_STRING(ARRAY_AGG(abstract.text), ' ') AS abstract_text,\n",
        "            filing_date\n",
        "        FROM `{dataset_ref}`,\n",
        "        UNNEST(abstract_localized) AS abstract\n",
        "        WHERE REGEXP_CONTAINS(abstract.text, r'{query}')\n",
        "        AND abstract.language = 'en'\n",
        "        GROUP BY publication_number, title_localized, filing_date\n",
        "        LIMIT 10\n",
        "    \"\"\"\n",
        "\n",
        "    # Execute the query\n",
        "    query_job = client.query(sql)\n",
        "\n",
        "    # Fetch the results\n",
        "    results = query_job.result()\n",
        "\n",
        "    # Convert results to a list of dictionaries\n",
        "    patents = []\n",
        "    for row in results:\n",
        "        patents.append({\n",
        "            \"publication_number\": row.publication_number,\n",
        "            \"title\": row.title_localized,\n",
        "            \"abstract\": row.abstract_text,\n",
        "            \"filing_date\": row.filing_date\n",
        "        })\n",
        "\n",
        "    print(f\"Google Patents Results: {patents}\")\n",
        "    return patents\n",
        "\n",
        "# 6. Fetch Patent Data from WIPO Patentscope API (requires an API key)\n",
        "@timer_decorator\n",
        "def search_patents_wipo(query, api_key):\n",
        "    \"\"\"\n",
        "    Searches WIPO Patentscope for patents using the API.\n",
        "    Requires WIPO API key.\n",
        "    \"\"\"\n",
        "    print(f\"Searching WIPO with query: {query}\")\n",
        "\n",
        "    url = f\"https://patentscope.wipo.int/search-api/rest/patents?query={query}&rows=10\"\n",
        "    headers = {\n",
        "        'Authorization': f'Bearer {api_key}'\n",
        "    }\n",
        "    response = requests.get(url, headers=headers)\n",
        "    return response.json()\n",
        "\n",
        "# 7. LLM for Semantic Similarity (Using Hugging Face Pipeline)\n",
        "@timer_decorator\n",
        "def check_novelty(new_patent_claim, prior_art_patents):\n",
        "    \"\"\"\n",
        "    Uses an LLM to check novelty by comparing new patent claims to prior art.\n",
        "    \"\"\"\n",
        "    print(f\"Checking novelty for patent claim: {new_patent_claim}\")\n",
        "    print(f\"Comparing with prior art patents: {prior_art_patents}\")\n",
        "\n",
        "    # Initialize HuggingFace pipeline for text similarity\n",
        "    similarity_model = pipeline('feature-extraction', model='sentence-transformers/all-MiniLM-L6-v2')\n",
        "\n",
        "    # Transform the new patent claim and the prior art patents\n",
        "    new_claim_embedding = similarity_model(new_patent_claim)[0]\n",
        "    prior_art_embeddings = [similarity_model(patent)[0] for patent in prior_art_patents]\n",
        "\n",
        "    # Compare similarity using cosine similarity\n",
        "    vectorizer = TfidfVectorizer()\n",
        "    corpus = [new_patent_claim] + prior_art_patents\n",
        "    tfidf_matrix = vectorizer.fit_transform(corpus)\n",
        "\n",
        "    # Compute cosine similarities\n",
        "    cosine_sim = cosine_similarity(tfidf_matrix[0:1], tfidf_matrix[1:])\n",
        "\n",
        "    print(f\"Cosine Similarities: {cosine_sim}\")\n",
        "    return cosine_sim\n",
        "\n",
        "# 8. Full Pipeline for Patent Novelty Check using GPT-4 for stronger search\n",
        "@timer_decorator\n",
        "def patent_novelty_check(patent_claim, api_key, source):\n",
        "    \"\"\"\n",
        "    Pipeline to check the novelty of a patent claim against existing patents.\n",
        "    Uses GPT-4 to improve the search process.\n",
        "    \"\"\"\n",
        "    print(f\"Starting patent novelty check for: {patent_claim}, using source: {source}\")\n",
        "\n",
        "    prior_art = search_patents_gpt(patent_claim, source, api_key)\n",
        "\n",
        "    if prior_art and prior_art != \"No prior art found for comparison.\":\n",
        "        # Assuming that GPT-4 returns a string of relevant patents to compare\n",
        "        prior_art_list = prior_art.split('\\n')\n",
        "        print(f\"Prior art list from GPT-4: {prior_art_list}\")\n",
        "        similarities = check_novelty(patent_claim, prior_art_list)\n",
        "        print(\"Cosine Similarities to Prior Art: \", similarities)\n",
        "    else:\n",
        "        print(\"No relevant prior art found for comparison.\")\n",
        "    return prior_art_list, similarities\n",
        "api_key = \"your_lens_org_or_wipo_or_openai_api_key\"\n",
        "patent_claim = \"A method for enhancing machine learning model performance by using transfer learning techniques.\"\n",
        "patent_claim = 'machine learning'\n",
        "source = \"google_patents\"  # Choose from 'lens', 'uspto', 'google_patents', 'wipo'\n",
        "prior_art_list, similarities = patent_novelty_check(patent_claim, api_key, source)\n"
      ],
      "metadata": {
        "colab": {
          "base_uri": "https://localhost:8080/"
        },
        "id": "63U-28Cosb3k",
        "outputId": "c2712f0f-4d10-40e0-98b9-f09c12d04f50"
      },
      "execution_count": 47,
      "outputs": [
        {
          "output_type": "stream",
          "name": "stdout",
          "text": [
            "Starting patent novelty check for: machine learning, using source: google_patents\n",
            "Searching patents with query: machine learning on source: google_patents\n",
            "Searching Google Patents with query: machine learning\n",
            "Google Patents Results: [{'publication_number': 'US-2020320438-A1', 'title': [{'text': 'Prudent ensemble models in machine learning with high precision for use in network security', 'language': 'en', 'truncated': False}], 'abstract': 'Systems and methods include receiving a content item between a user device and a location on the Internet or an enterprise network; utilizing a trained machine learning ensemble model to determine whether the content item is malicious; responsive to the trained machine learning ensemble model determining the content item is malicious or determining the content item is benign but such determining is in a blind spot of the trained ensemble model, performing further processing on the content item; and, responsive to the trained machine learning ensemble model determining the content item is benign with such determination not in a blind spot of the trained machine learning ensemble model, allowing the content item. A blind spot is a location where the trained machine learning ensemble model has not seen any examples with a combination of features at the location or has examples with conflicting labels. Systems and methods include receiving a content item between a user device and a location on the Internet or an enterprise network; utilizing a trained machine learning ensemble model to determine whether the content item is malicious; responsive to the trained machine learning ensemble model determining the content item is malicious or determining the content item is benign but such determining is in a blind spot of the trained ensemble model, performing further processing on the content item; and, responsive to the trained machine learning ensemble model determining the content item is benign with such determination not in a blind spot of the trained machine learning ensemble model, allowing the content item. A blind spot is a location where the trained machine learning ensemble model has not seen any examples with a combination of features at the location or has examples with conflicting labels.', 'filing_date': 20190405}, {'publication_number': 'WO-2016208159-A1', 'title': [{'text': 'Information processing device, information processing system, information processing method, and storage medium', 'language': 'en', 'truncated': False}, {'text': 'Dispositif de traitement d&#39;informations, système de traitement d&#39;informations, procédé de traitement d&#39;informations et support de stockage', 'language': 'fr', 'truncated': False}, {'text': '情報処理装置、情報処理システム、情報処理方法、及び、記憶媒体', 'language': 'ja', 'truncated': False}], 'abstract': 'In order to create alert information that can be properly presented to an operator, an information processing device of the present invention includes: a dissimilarity calculating means for calculating dissimilarity between already received first alert information and newly received second alert information; a machine learning means for applying machine learning to the first alert information to generate a classifier which determines a classification result; and a determining means. The determining means applies the classifier to the second alert information to determine a classification result; sets a determined result for the classification result of the second alert information to set information which indicates there is no need of presentation for information which indicates the presentation of the second alert information, when the determined result is false detection which indicates erroneous detection and the dissimilarity is smaller than a prescribed threshold value; and sets information which indicates there is a need of the presentation for information which indicates the presentation of the second alert information, when the determined result is correct detection which indicates right detection, or when the determined result is false detection which indicates erroneous detection and the dissimilarity is equal to or greater than the prescribed threshold value. In order to create alert information that can be properly presented to an operator, an information processing device of the present invention includes: a dissimilarity calculating means for calculating dissimilarity between already received first alert information and newly received second alert information; a machine learning means for applying machine learning to the first alert information to generate a classifier which determines a classification result; and a determining means. The determining means applies the classifier to the second alert information to determine a classification result; sets a determined result for the classification result of the second alert information to set information which indicates there is no need of presentation for information which indicates the presentation of the second alert information, when the determined result is false detection which indicates erroneous detection and the dissimilarity is smaller than a prescribed threshold value; and sets information which indicates there is a need of the presentation for information which indicates the presentation of the second alert information, when the determined result is correct detection which indicates right detection, or when the determined result is false detection which indicates erroneous detection and the dissimilarity is equal to or greater than the prescribed threshold value.', 'filing_date': 20160615}, {'publication_number': 'US-11938957-B2', 'title': [{'text': 'Driving scenario sampling for training/tuning machine learning models for vehicles', 'language': 'en', 'truncated': False}], 'abstract': 'Enclosed are embodiments for sampling driving scenarios for training machine learning models. In an embodiment, a method comprises: assigning, using at least one processor, a set of initial physical states to a set of objects in a map for a set of simulated driving scenarios, wherein the set of initial physical states are assigned according to one or more outputs of a random number generator; generating, using the at least one processor, the set of simulated driving scenarios in the map using the initial physical states of the objects in the set of objects; selecting, using the at least one processor, samples of the simulated driving scenarios; training, using the at least one processor, a machine learning model using the selected samples; and operating, using a control circuit, a vehicle in an environment using the trained machine learning model. Enclosed are embodiments for sampling driving scenarios for training machine learning models. In an embodiment, a method comprises: assigning, using at least one processor, a set of initial physical states to a set of objects in a map for a set of simulated driving scenarios, wherein the set of initial physical states are assigned according to one or more outputs of a random number generator; generating, using the at least one processor, the set of simulated driving scenarios in the map using the initial physical states of the objects in the set of objects; selecting, using the at least one processor, samples of the simulated driving scenarios; training, using the at least one processor, a machine learning model using the selected samples; and operating, using a control circuit, a vehicle in an environment using the trained machine learning model.', 'filing_date': 20200824}, {'publication_number': 'US-12008503-B2', 'title': [{'text': 'Sensor risk assessment database', 'language': 'en', 'truncated': False}], 'abstract': 'An example operation may include one or more of receiving sensor data from one or more sensors associated with a building, storing a block including the sensor data to a shared ledger of a blockchain network, the one or more sensors associated with one or more buildings, requesting a risk assessment for the sensor data, by a blockchain node, calculating the risk assessment with one or more machine learning algorithms based on the sensor data, historical sensor blockchain data, importance of the one or more sensors, and a degree of concern related to the sensor data, providing the risk assessment to the blockchain node, and generating an alert in response to the risk assessment above a threshold. An example operation may include one or more of receiving sensor data from one or more sensors associated with a building, storing a block including the sensor data to a shared ledger of a blockchain network, the one or more sensors associated with one or more buildings, requesting a risk assessment for the sensor data, by a blockchain node, calculating the risk assessment with one or more machine learning algorithms based on the sensor data, historical sensor blockchain data, importance of the one or more sensors, and a degree of concern related to the sensor data, providing the risk assessment to the blockchain node, and generating an alert in response to the risk assessment above a threshold.', 'filing_date': 20181107}, {'publication_number': 'CN-109274314-B', 'title': [{'text': 'Machine learning device, servomotor control system, and machine learning method', 'language': 'en', 'truncated': False}, {'text': '机器学习装置、伺服电动机控制装置、伺服电动机控制系统以及机器学习方法', 'language': 'zh', 'truncated': False}], 'abstract': 'The invention provides a machine learning device, a servomotor control system, and a machine learning method. The machine learning device performs machine learning for a servo motor control device provided with a nonlinear friction compensator, and is provided with: a state information acquisition unit that acquires state information from the servo motor control device, the state information including a combination of a servo state including at least a positional deviation and a correction coefficient of the nonlinear friction compensation unit, by causing the servo motor control device to execute a predetermined program; a behavior information output unit that outputs behavior information including adjustment information of a combination of correction coefficients included in the state information to the servo motor control device; a return output unit that outputs a value of a return in reinforcement learning based on the positional deviation included in the status information; and a cost function updating unit for updating the behavior cost function based on the report value, the state information, and the behavior information output by the report output unit.', 'filing_date': 20180713}, {'publication_number': 'KR-102403174-B1', 'title': [{'text': '중요도에 따른 데이터 정제 방법 및 이를 실행시키기 위하여 기록매체에 기록된 컴퓨터 프로그램', 'language': 'ko', 'truncated': False}, {'text': 'Method for data purification according to importance, and computer program recorded on record-medium for executing method therefor', 'language': 'en', 'truncated': False}], 'abstract': 'The present invention proposes a method for cleaning data according to importance, which can clean 2D images pre-collected for artificial intelligence (AI) machine learning according to importance. The method comprises the steps in which: a learning data generating device evaluates importance by analyzing 2D images pre-collected for AI machine learning; and the learning data generating device cleans at least one of the pre-collected 2D images according to the evaluated importance. Therefore, the method can analyze the pre-collected 2D images to evaluate importance, and can clean at least one of the 2D images pre-collected according to the evaluated importance, thereby increasing the efficiency of machine learning as a 2D image with relatively low importance is cleaned.', 'filing_date': 20211221}, {'publication_number': 'US-11907882-B1', 'title': [{'text': 'Model validation of credit risk', 'language': 'en', 'truncated': False}], 'abstract': 'The innovation disclosed and claimed herein, in one aspect thereof, comprises systems and methods of validating models guided by machine learning algorithms. The innovation can begin by receiving a risk model for validation having multiple sets of data. A first data set is selected from as an input. Outputs are generated for validation. One output can be generating a second set of analysis results using a comparable algorithm to the risk model. Another output can be generating a second set of variables and transformations using a machine learning algorithm and an untransformed set of the selected variables to assess the set of selected transformations. Another output can be generating a third set of variables using one or more machine learning algorithms and an extended feature set of variables to assess the selected variables. The outputs are compared to the analysis results, coefficients, selected variables, and selected transformations. A report of the comparison is generated. The innovation disclosed and claimed herein, in one aspect thereof, comprises systems and methods of validating models guided by machine learning algorithms. The innovation can begin by receiving a risk model for validation having multiple sets of data. A first data set is selected from as an input. Outputs are generated for validation. One output can be generating a second set of analysis results using a comparable algorithm to the risk model. Another output can be generating a second set of variables and transformations using a machine learning algorithm and an untransformed set of the selected variables to assess the set of selected transformations. Another output can be generating a third set of variables using one or more machine learning algorithms and an extended feature set of variables to assess the selected variables. The outputs are compared to the analysis results, coefficients, selected variables, and selected transformations. A report of the comparison is generated.', 'filing_date': 20220825}, {'publication_number': 'CN-115643049-A', 'title': [{'text': 'Method for detecting mining action in real time based on encrypted flow analysis', 'language': 'en', 'truncated': False}, {'text': '一种基于加密流量分析的挖矿行为实时检测方法', 'language': 'zh', 'truncated': False}], 'abstract': 'The invention relates to a real-time detection method for mining excavation behaviors based on encrypted flow analysis, and belongs to the technical field of block chain encrypted network flow processing. The method extracts the length of the data packets, the number of the data packets, the arrival time interval of the data packets and the flow duration time of the data packets from the encrypted flow as characteristics, and further combines the characteristics with a machine learning model to realize accurate identification of the mining action. Under the scene that the network flow is encrypted, the method can detect the mining behavior of the encrypted currency, realize the timely blocking of the malicious mining flow and ensure that the equipment resources are prevented from being invaded. The invention only needs to be deployed at the gateway, reduces the implementation cost of a network administrator, and simultaneously only needs to passively monitor the flow without interfering the normal work of the network.', 'filing_date': 20220920}, {'publication_number': 'CN-117875443-A', 'title': [{'text': 'Implementing machine learning in a local APL edge device with power limitation', 'language': 'en', 'truncated': False}, {'text': '在具有功率限制的本地apl边缘设备中实现机器学习', 'language': 'zh', 'truncated': False}], 'abstract': 'A method performed by an Advanced Physical Layer (APL) -based edge device having power limitations is provided. The method includes applying an event driven framework that meets power constraints of an APL-based edge device to receive input data; the method includes applying an event driven framework to input data to invoke a Machine Learning (ML) model trained to analyze the input data and make inferences about one or more aspects of the industrial system based on the input data, and applying the invoked machine learning model to analyze the input data and make inferences about one or more aspects of the industrial system based on the input data. The APL based edge devices receive input data from one or more source field devices of the industrial system and/or use inferences to make decisions and apply actions to the industrial system.', 'filing_date': 20231010}, {'publication_number': 'CN-111444629-A', 'title': [{'text': 'Reinforcing steel bar corrosion parameter prediction method based on support vector machine', 'language': 'en', 'truncated': False}, {'text': '一种基于支持向量机的钢筋锈蚀参数预测方法', 'language': 'zh', 'truncated': False}], 'abstract': 'The invention relates to the technical fields of reinforced concrete, machine learning technology and big data, in particular to a method for predicting steel bar corrosion parameters based on a support vector machine. The steel bar corrosion parameter prediction method based on the support vector machine comprises the following steps: the method comprises the following steps: manufacturing a test piece of the corrosion reinforcing steel bar; step two: 3D scanning is carried out on the test piece, and a 3D image model is generated; step three: according to the 3D image model, calculating the specific characteristic parameters of the section of the test piece and the steel bar corrosion rate corresponding to the specific characteristic parameters of the section; step four: setting specific characteristic parameters of the cross section and the corrosion rate of the steel bar corresponding to the specific characteristic parameters as a group of basic data, inputting the multiple groups of basic data into a support vector machine for learning and training to obtain a prediction model for predicting the corrosion rate of the steel bar to be measured. The method can realize the prediction of the corrosion rate of the steel bar only by knowing the specific characteristic parameters of the corroded steel bar, and has high accuracy and convenient use.', 'filing_date': 20200415}]\n",
            "Function 'search_google_patents' took 1.3757 seconds\n",
            "Patents retrieved: [{'publication_number': 'US-2020320438-A1', 'title': [{'text': 'Prudent ensemble models in machine learning with high precision for use in network security', 'language': 'en', 'truncated': False}], 'abstract': 'Systems and methods include receiving a content item between a user device and a location on the Internet or an enterprise network; utilizing a trained machine learning ensemble model to determine whether the content item is malicious; responsive to the trained machine learning ensemble model determining the content item is malicious or determining the content item is benign but such determining is in a blind spot of the trained ensemble model, performing further processing on the content item; and, responsive to the trained machine learning ensemble model determining the content item is benign with such determination not in a blind spot of the trained machine learning ensemble model, allowing the content item. A blind spot is a location where the trained machine learning ensemble model has not seen any examples with a combination of features at the location or has examples with conflicting labels. Systems and methods include receiving a content item between a user device and a location on the Internet or an enterprise network; utilizing a trained machine learning ensemble model to determine whether the content item is malicious; responsive to the trained machine learning ensemble model determining the content item is malicious or determining the content item is benign but such determining is in a blind spot of the trained ensemble model, performing further processing on the content item; and, responsive to the trained machine learning ensemble model determining the content item is benign with such determination not in a blind spot of the trained machine learning ensemble model, allowing the content item. A blind spot is a location where the trained machine learning ensemble model has not seen any examples with a combination of features at the location or has examples with conflicting labels.', 'filing_date': 20190405}, {'publication_number': 'WO-2016208159-A1', 'title': [{'text': 'Information processing device, information processing system, information processing method, and storage medium', 'language': 'en', 'truncated': False}, {'text': 'Dispositif de traitement d&#39;informations, système de traitement d&#39;informations, procédé de traitement d&#39;informations et support de stockage', 'language': 'fr', 'truncated': False}, {'text': '情報処理装置、情報処理システム、情報処理方法、及び、記憶媒体', 'language': 'ja', 'truncated': False}], 'abstract': 'In order to create alert information that can be properly presented to an operator, an information processing device of the present invention includes: a dissimilarity calculating means for calculating dissimilarity between already received first alert information and newly received second alert information; a machine learning means for applying machine learning to the first alert information to generate a classifier which determines a classification result; and a determining means. The determining means applies the classifier to the second alert information to determine a classification result; sets a determined result for the classification result of the second alert information to set information which indicates there is no need of presentation for information which indicates the presentation of the second alert information, when the determined result is false detection which indicates erroneous detection and the dissimilarity is smaller than a prescribed threshold value; and sets information which indicates there is a need of the presentation for information which indicates the presentation of the second alert information, when the determined result is correct detection which indicates right detection, or when the determined result is false detection which indicates erroneous detection and the dissimilarity is equal to or greater than the prescribed threshold value. In order to create alert information that can be properly presented to an operator, an information processing device of the present invention includes: a dissimilarity calculating means for calculating dissimilarity between already received first alert information and newly received second alert information; a machine learning means for applying machine learning to the first alert information to generate a classifier which determines a classification result; and a determining means. The determining means applies the classifier to the second alert information to determine a classification result; sets a determined result for the classification result of the second alert information to set information which indicates there is no need of presentation for information which indicates the presentation of the second alert information, when the determined result is false detection which indicates erroneous detection and the dissimilarity is smaller than a prescribed threshold value; and sets information which indicates there is a need of the presentation for information which indicates the presentation of the second alert information, when the determined result is correct detection which indicates right detection, or when the determined result is false detection which indicates erroneous detection and the dissimilarity is equal to or greater than the prescribed threshold value.', 'filing_date': 20160615}, {'publication_number': 'US-11938957-B2', 'title': [{'text': 'Driving scenario sampling for training/tuning machine learning models for vehicles', 'language': 'en', 'truncated': False}], 'abstract': 'Enclosed are embodiments for sampling driving scenarios for training machine learning models. In an embodiment, a method comprises: assigning, using at least one processor, a set of initial physical states to a set of objects in a map for a set of simulated driving scenarios, wherein the set of initial physical states are assigned according to one or more outputs of a random number generator; generating, using the at least one processor, the set of simulated driving scenarios in the map using the initial physical states of the objects in the set of objects; selecting, using the at least one processor, samples of the simulated driving scenarios; training, using the at least one processor, a machine learning model using the selected samples; and operating, using a control circuit, a vehicle in an environment using the trained machine learning model. Enclosed are embodiments for sampling driving scenarios for training machine learning models. In an embodiment, a method comprises: assigning, using at least one processor, a set of initial physical states to a set of objects in a map for a set of simulated driving scenarios, wherein the set of initial physical states are assigned according to one or more outputs of a random number generator; generating, using the at least one processor, the set of simulated driving scenarios in the map using the initial physical states of the objects in the set of objects; selecting, using the at least one processor, samples of the simulated driving scenarios; training, using the at least one processor, a machine learning model using the selected samples; and operating, using a control circuit, a vehicle in an environment using the trained machine learning model.', 'filing_date': 20200824}, {'publication_number': 'US-12008503-B2', 'title': [{'text': 'Sensor risk assessment database', 'language': 'en', 'truncated': False}], 'abstract': 'An example operation may include one or more of receiving sensor data from one or more sensors associated with a building, storing a block including the sensor data to a shared ledger of a blockchain network, the one or more sensors associated with one or more buildings, requesting a risk assessment for the sensor data, by a blockchain node, calculating the risk assessment with one or more machine learning algorithms based on the sensor data, historical sensor blockchain data, importance of the one or more sensors, and a degree of concern related to the sensor data, providing the risk assessment to the blockchain node, and generating an alert in response to the risk assessment above a threshold. An example operation may include one or more of receiving sensor data from one or more sensors associated with a building, storing a block including the sensor data to a shared ledger of a blockchain network, the one or more sensors associated with one or more buildings, requesting a risk assessment for the sensor data, by a blockchain node, calculating the risk assessment with one or more machine learning algorithms based on the sensor data, historical sensor blockchain data, importance of the one or more sensors, and a degree of concern related to the sensor data, providing the risk assessment to the blockchain node, and generating an alert in response to the risk assessment above a threshold.', 'filing_date': 20181107}, {'publication_number': 'CN-109274314-B', 'title': [{'text': 'Machine learning device, servomotor control system, and machine learning method', 'language': 'en', 'truncated': False}, {'text': '机器学习装置、伺服电动机控制装置、伺服电动机控制系统以及机器学习方法', 'language': 'zh', 'truncated': False}], 'abstract': 'The invention provides a machine learning device, a servomotor control system, and a machine learning method. The machine learning device performs machine learning for a servo motor control device provided with a nonlinear friction compensator, and is provided with: a state information acquisition unit that acquires state information from the servo motor control device, the state information including a combination of a servo state including at least a positional deviation and a correction coefficient of the nonlinear friction compensation unit, by causing the servo motor control device to execute a predetermined program; a behavior information output unit that outputs behavior information including adjustment information of a combination of correction coefficients included in the state information to the servo motor control device; a return output unit that outputs a value of a return in reinforcement learning based on the positional deviation included in the status information; and a cost function updating unit for updating the behavior cost function based on the report value, the state information, and the behavior information output by the report output unit.', 'filing_date': 20180713}, {'publication_number': 'KR-102403174-B1', 'title': [{'text': '중요도에 따른 데이터 정제 방법 및 이를 실행시키기 위하여 기록매체에 기록된 컴퓨터 프로그램', 'language': 'ko', 'truncated': False}, {'text': 'Method for data purification according to importance, and computer program recorded on record-medium for executing method therefor', 'language': 'en', 'truncated': False}], 'abstract': 'The present invention proposes a method for cleaning data according to importance, which can clean 2D images pre-collected for artificial intelligence (AI) machine learning according to importance. The method comprises the steps in which: a learning data generating device evaluates importance by analyzing 2D images pre-collected for AI machine learning; and the learning data generating device cleans at least one of the pre-collected 2D images according to the evaluated importance. Therefore, the method can analyze the pre-collected 2D images to evaluate importance, and can clean at least one of the 2D images pre-collected according to the evaluated importance, thereby increasing the efficiency of machine learning as a 2D image with relatively low importance is cleaned.', 'filing_date': 20211221}, {'publication_number': 'US-11907882-B1', 'title': [{'text': 'Model validation of credit risk', 'language': 'en', 'truncated': False}], 'abstract': 'The innovation disclosed and claimed herein, in one aspect thereof, comprises systems and methods of validating models guided by machine learning algorithms. The innovation can begin by receiving a risk model for validation having multiple sets of data. A first data set is selected from as an input. Outputs are generated for validation. One output can be generating a second set of analysis results using a comparable algorithm to the risk model. Another output can be generating a second set of variables and transformations using a machine learning algorithm and an untransformed set of the selected variables to assess the set of selected transformations. Another output can be generating a third set of variables using one or more machine learning algorithms and an extended feature set of variables to assess the selected variables. The outputs are compared to the analysis results, coefficients, selected variables, and selected transformations. A report of the comparison is generated. The innovation disclosed and claimed herein, in one aspect thereof, comprises systems and methods of validating models guided by machine learning algorithms. The innovation can begin by receiving a risk model for validation having multiple sets of data. A first data set is selected from as an input. Outputs are generated for validation. One output can be generating a second set of analysis results using a comparable algorithm to the risk model. Another output can be generating a second set of variables and transformations using a machine learning algorithm and an untransformed set of the selected variables to assess the set of selected transformations. Another output can be generating a third set of variables using one or more machine learning algorithms and an extended feature set of variables to assess the selected variables. The outputs are compared to the analysis results, coefficients, selected variables, and selected transformations. A report of the comparison is generated.', 'filing_date': 20220825}, {'publication_number': 'CN-115643049-A', 'title': [{'text': 'Method for detecting mining action in real time based on encrypted flow analysis', 'language': 'en', 'truncated': False}, {'text': '一种基于加密流量分析的挖矿行为实时检测方法', 'language': 'zh', 'truncated': False}], 'abstract': 'The invention relates to a real-time detection method for mining excavation behaviors based on encrypted flow analysis, and belongs to the technical field of block chain encrypted network flow processing. The method extracts the length of the data packets, the number of the data packets, the arrival time interval of the data packets and the flow duration time of the data packets from the encrypted flow as characteristics, and further combines the characteristics with a machine learning model to realize accurate identification of the mining action. Under the scene that the network flow is encrypted, the method can detect the mining behavior of the encrypted currency, realize the timely blocking of the malicious mining flow and ensure that the equipment resources are prevented from being invaded. The invention only needs to be deployed at the gateway, reduces the implementation cost of a network administrator, and simultaneously only needs to passively monitor the flow without interfering the normal work of the network.', 'filing_date': 20220920}, {'publication_number': 'CN-117875443-A', 'title': [{'text': 'Implementing machine learning in a local APL edge device with power limitation', 'language': 'en', 'truncated': False}, {'text': '在具有功率限制的本地apl边缘设备中实现机器学习', 'language': 'zh', 'truncated': False}], 'abstract': 'A method performed by an Advanced Physical Layer (APL) -based edge device having power limitations is provided. The method includes applying an event driven framework that meets power constraints of an APL-based edge device to receive input data; the method includes applying an event driven framework to input data to invoke a Machine Learning (ML) model trained to analyze the input data and make inferences about one or more aspects of the industrial system based on the input data, and applying the invoked machine learning model to analyze the input data and make inferences about one or more aspects of the industrial system based on the input data. The APL based edge devices receive input data from one or more source field devices of the industrial system and/or use inferences to make decisions and apply actions to the industrial system.', 'filing_date': 20231010}, {'publication_number': 'CN-111444629-A', 'title': [{'text': 'Reinforcing steel bar corrosion parameter prediction method based on support vector machine', 'language': 'en', 'truncated': False}, {'text': '一种基于支持向量机的钢筋锈蚀参数预测方法', 'language': 'zh', 'truncated': False}], 'abstract': 'The invention relates to the technical fields of reinforced concrete, machine learning technology and big data, in particular to a method for predicting steel bar corrosion parameters based on a support vector machine. The steel bar corrosion parameter prediction method based on the support vector machine comprises the following steps: the method comprises the following steps: manufacturing a test piece of the corrosion reinforcing steel bar; step two: 3D scanning is carried out on the test piece, and a 3D image model is generated; step three: according to the 3D image model, calculating the specific characteristic parameters of the section of the test piece and the steel bar corrosion rate corresponding to the specific characteristic parameters of the section; step four: setting specific characteristic parameters of the cross section and the corrosion rate of the steel bar corresponding to the specific characteristic parameters as a group of basic data, inputting the multiple groups of basic data into a support vector machine for learning and training to obtain a prediction model for predicting the corrosion rate of the steel bar to be measured. The method can realize the prediction of the corrosion rate of the steel bar only by knowing the specific characteristic parameters of the corroded steel bar, and has high accuracy and convenient use.', 'filing_date': 20200415}]\n",
            "Patent titles: [[{'text': 'Prudent ensemble models in machine learning with high precision for use in network security', 'language': 'en', 'truncated': False}], [{'text': 'Information processing device, information processing system, information processing method, and storage medium', 'language': 'en', 'truncated': False}, {'text': 'Dispositif de traitement d&#39;informations, système de traitement d&#39;informations, procédé de traitement d&#39;informations et support de stockage', 'language': 'fr', 'truncated': False}, {'text': '情報処理装置、情報処理システム、情報処理方法、及び、記憶媒体', 'language': 'ja', 'truncated': False}], [{'text': 'Driving scenario sampling for training/tuning machine learning models for vehicles', 'language': 'en', 'truncated': False}], [{'text': 'Sensor risk assessment database', 'language': 'en', 'truncated': False}], [{'text': 'Machine learning device, servomotor control system, and machine learning method', 'language': 'en', 'truncated': False}, {'text': '机器学习装置、伺服电动机控制装置、伺服电动机控制系统以及机器学习方法', 'language': 'zh', 'truncated': False}], [{'text': '중요도에 따른 데이터 정제 방법 및 이를 실행시키기 위하여 기록매체에 기록된 컴퓨터 프로그램', 'language': 'ko', 'truncated': False}, {'text': 'Method for data purification according to importance, and computer program recorded on record-medium for executing method therefor', 'language': 'en', 'truncated': False}], [{'text': 'Model validation of credit risk', 'language': 'en', 'truncated': False}], [{'text': 'Method for detecting mining action in real time based on encrypted flow analysis', 'language': 'en', 'truncated': False}, {'text': '一种基于加密流量分析的挖矿行为实时检测方法', 'language': 'zh', 'truncated': False}], [{'text': 'Implementing machine learning in a local APL edge device with power limitation', 'language': 'en', 'truncated': False}, {'text': '在具有功率限制的本地apl边缘设备中实现机器学习', 'language': 'zh', 'truncated': False}], [{'text': 'Reinforcing steel bar corrosion parameter prediction method based on support vector machine', 'language': 'en', 'truncated': False}, {'text': '一种基于支持向量机的钢筋锈蚀参数预测方法', 'language': 'zh', 'truncated': False}]]\n",
            "Refining search with GPT-4. Query: machine learning, Titles: [[{'text': 'Prudent ensemble models in machine learning with high precision for use in network security', 'language': 'en', 'truncated': False}], [{'text': 'Information processing device, information processing system, information processing method, and storage medium', 'language': 'en', 'truncated': False}, {'text': 'Dispositif de traitement d&#39;informations, système de traitement d&#39;informations, procédé de traitement d&#39;informations et support de stockage', 'language': 'fr', 'truncated': False}, {'text': '情報処理装置、情報処理システム、情報処理方法、及び、記憶媒体', 'language': 'ja', 'truncated': False}], [{'text': 'Driving scenario sampling for training/tuning machine learning models for vehicles', 'language': 'en', 'truncated': False}], [{'text': 'Sensor risk assessment database', 'language': 'en', 'truncated': False}], [{'text': 'Machine learning device, servomotor control system, and machine learning method', 'language': 'en', 'truncated': False}, {'text': '机器学习装置、伺服电动机控制装置、伺服电动机控制系统以及机器学习方法', 'language': 'zh', 'truncated': False}], [{'text': '중요도에 따른 데이터 정제 방법 및 이를 실행시키기 위하여 기록매체에 기록된 컴퓨터 프로그램', 'language': 'ko', 'truncated': False}, {'text': 'Method for data purification according to importance, and computer program recorded on record-medium for executing method therefor', 'language': 'en', 'truncated': False}], [{'text': 'Model validation of credit risk', 'language': 'en', 'truncated': False}], [{'text': 'Method for detecting mining action in real time based on encrypted flow analysis', 'language': 'en', 'truncated': False}, {'text': '一种基于加密流量分析的挖矿行为实时检测方法', 'language': 'zh', 'truncated': False}], [{'text': 'Implementing machine learning in a local APL edge device with power limitation', 'language': 'en', 'truncated': False}, {'text': '在具有功率限制的本地apl边缘设备中实现机器学习', 'language': 'zh', 'truncated': False}], [{'text': 'Reinforcing steel bar corrosion parameter prediction method based on support vector machine', 'language': 'en', 'truncated': False}, {'text': '一种基于支持向量机的钢筋锈蚀参数预测方法', 'language': 'zh', 'truncated': False}]]\n",
            "GPT-4 response: 1. \"Prudent ensemble models in machine learning with high precision for use in network security\": This patent is directly related to machine learning models, which is the crux of your patent claim.\n",
            "\n",
            "2. \"Driving scenario sampling for training/tuning machine learning models for vehicles\": This prior art is relevant because it mentions the use of machine learning models which can potentially conflict with your patent claim, depending upon the specifics of your claim.\n",
            "\n",
            "3. \"Machine learning device, servomotor control system, and machine learning method\": As the title suggests, this prior art talks about a machine learning device and a method related to machine learning. Considering your patent claim is about machine learning, this is a significant piece of prior art.\n",
            "\n",
            "4. \"Implementing machine learning in a local APL edge device with power limitation\": This patent talks about the implementation of machine learning on a specific device. It is necessary to determine if this overlaps with your patent claim based on the specifics of the machine learning your claim is based on.\n",
            "\n",
            "5. \"Reinforcing steel bar corrosion parameter prediction method based on support vector machine\": This is a specific application of machine learning in the field of construction, indicating that machine learning techniques were used earlier in this particular field.\n",
            "\n",
            "In conclusion, these prior art references show that machine learning has been applied in a multitude of applications and methods before, and patent examiners might use these references to question the novelty, non-obviousness, or industrial applicability of your patent claim. Therefore, it is necessary to clearly define the distinctiveness of your invention in your patent application.\n",
            "Function 'refine_search_with_gpt' took 16.8518 seconds\n",
            "Function 'search_patents_gpt' took 18.2294 seconds\n",
            "Prior art list from GPT-4: ['1. \"Prudent ensemble models in machine learning with high precision for use in network security\": This patent is directly related to machine learning models, which is the crux of your patent claim.', '', '2. \"Driving scenario sampling for training/tuning machine learning models for vehicles\": This prior art is relevant because it mentions the use of machine learning models which can potentially conflict with your patent claim, depending upon the specifics of your claim.', '', '3. \"Machine learning device, servomotor control system, and machine learning method\": As the title suggests, this prior art talks about a machine learning device and a method related to machine learning. Considering your patent claim is about machine learning, this is a significant piece of prior art.', '', '4. \"Implementing machine learning in a local APL edge device with power limitation\": This patent talks about the implementation of machine learning on a specific device. It is necessary to determine if this overlaps with your patent claim based on the specifics of the machine learning your claim is based on.', '', '5. \"Reinforcing steel bar corrosion parameter prediction method based on support vector machine\": This is a specific application of machine learning in the field of construction, indicating that machine learning techniques were used earlier in this particular field.', '', 'In conclusion, these prior art references show that machine learning has been applied in a multitude of applications and methods before, and patent examiners might use these references to question the novelty, non-obviousness, or industrial applicability of your patent claim. Therefore, it is necessary to clearly define the distinctiveness of your invention in your patent application.']\n",
            "Checking novelty for patent claim: machine learning\n",
            "Comparing with prior art patents: ['1. \"Prudent ensemble models in machine learning with high precision for use in network security\": This patent is directly related to machine learning models, which is the crux of your patent claim.', '', '2. \"Driving scenario sampling for training/tuning machine learning models for vehicles\": This prior art is relevant because it mentions the use of machine learning models which can potentially conflict with your patent claim, depending upon the specifics of your claim.', '', '3. \"Machine learning device, servomotor control system, and machine learning method\": As the title suggests, this prior art talks about a machine learning device and a method related to machine learning. Considering your patent claim is about machine learning, this is a significant piece of prior art.', '', '4. \"Implementing machine learning in a local APL edge device with power limitation\": This patent talks about the implementation of machine learning on a specific device. It is necessary to determine if this overlaps with your patent claim based on the specifics of the machine learning your claim is based on.', '', '5. \"Reinforcing steel bar corrosion parameter prediction method based on support vector machine\": This is a specific application of machine learning in the field of construction, indicating that machine learning techniques were used earlier in this particular field.', '', 'In conclusion, these prior art references show that machine learning has been applied in a multitude of applications and methods before, and patent examiners might use these references to question the novelty, non-obviousness, or industrial applicability of your patent claim. Therefore, it is necessary to clearly define the distinctiveness of your invention in your patent application.']\n"
          ]
        },
        {
          "output_type": "stream",
          "name": "stderr",
          "text": [
            "/usr/local/lib/python3.10/dist-packages/transformers/tokenization_utils_base.py:1601: FutureWarning: `clean_up_tokenization_spaces` was not set. It will be set to `True` by default. This behavior will be depracted in transformers v4.45, and will be then set to `False` by default. For more details check this issue: https://github.com/huggingface/transformers/issues/31884\n",
            "  warnings.warn(\n"
          ]
        },
        {
          "output_type": "stream",
          "name": "stdout",
          "text": [
            "Cosine Similarities: [[0.30278526 0.         0.25443072 0.         0.54345625 0.\n",
            "  0.32235069 0.         0.32233819 0.         0.09713204]]\n",
            "Function 'check_novelty' took 0.5890 seconds\n",
            "Cosine Similarities to Prior Art:  [[0.30278526 0.         0.25443072 0.         0.54345625 0.\n",
            "  0.32235069 0.         0.32233819 0.         0.09713204]]\n",
            "Function 'patent_novelty_check' took 18.8203 seconds\n"
          ]
        }
      ]
    },
    {
      "cell_type": "code",
      "source": [
        "similarities_flat = similarities.flatten()\n",
        "for i,j in zip(similarities_flat[:5], prior_art_list[:5]):\n",
        "  print(\"similarity is: \", round(i,2))\n",
        "  print(j)"
      ],
      "metadata": {
        "colab": {
          "base_uri": "https://localhost:8080/"
        },
        "id": "ewjrhC-dt2Kl",
        "outputId": "4336cd6a-413b-4b47-9961-067174a3be35"
      },
      "execution_count": 64,
      "outputs": [
        {
          "output_type": "stream",
          "name": "stdout",
          "text": [
            "similarity is:  0.3\n",
            "1. \"Prudent ensemble models in machine learning with high precision for use in network security\": This patent is directly related to machine learning models, which is the crux of your patent claim.\n",
            "similarity is:  0.0\n",
            "\n",
            "similarity is:  0.25\n",
            "2. \"Driving scenario sampling for training/tuning machine learning models for vehicles\": This prior art is relevant because it mentions the use of machine learning models which can potentially conflict with your patent claim, depending upon the specifics of your claim.\n",
            "similarity is:  0.0\n",
            "\n",
            "similarity is:  0.54\n",
            "3. \"Machine learning device, servomotor control system, and machine learning method\": As the title suggests, this prior art talks about a machine learning device and a method related to machine learning. Considering your patent claim is about machine learning, this is a significant piece of prior art.\n"
          ]
        }
      ]
    },
    {
      "cell_type": "code",
      "source": [],
      "metadata": {
        "id": "ogO_fu9Yzwkf"
      },
      "execution_count": null,
      "outputs": []
    }
  ],
  "metadata": {
    "kernelspec": {
      "display_name": "py310",
      "language": "python",
      "name": "python3"
    },
    "language_info": {
      "codemirror_mode": {
        "name": "ipython",
        "version": 3
      },
      "file_extension": ".py",
      "mimetype": "text/x-python",
      "name": "python",
      "nbconvert_exporter": "python",
      "pygments_lexer": "ipython3",
      "version": "3.10.15"
    },
    "colab": {
      "provenance": []
    }
  },
  "nbformat": 4,
  "nbformat_minor": 0
}